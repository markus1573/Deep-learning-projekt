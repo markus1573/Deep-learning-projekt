{
 "cells": [
  {
   "cell_type": "markdown",
   "id": "def4f85a-37b5-472e-8782-a5df13c5d601",
   "metadata": {},
   "source": [
    "# Training"
   ]
  },
  {
   "cell_type": "markdown",
   "id": "6aec1af4-1d61-46ef-90b9-b972129d09a5",
   "metadata": {},
   "source": [
    "## Setup"
   ]
  },
  {
   "cell_type": "code",
   "execution_count": 1,
   "id": "3eeb867f-c38e-4e5c-ab89-a7e747ead472",
   "metadata": {},
   "outputs": [],
   "source": [
    "import torch\n",
    "import torchvision\n",
    "from torchvision import datasets, transforms\n",
    "import pandas as pd\n",
    "from torch.utils.data import random_split \n",
    "import torch.nn as nn\n",
    "import torch.nn.functional as F\n",
    "import torch.optim as optim\n",
    "import numpy as np\n",
    "import matplotlib.pyplot as plt\n",
    "#from torch.autograd import Variable\n",
    "from IPython.display import clear_output\n",
    "import math\n"
   ]
  },
  {
   "cell_type": "code",
   "execution_count": 2,
   "id": "017d87cd-410b-44ef-ac34-560022867208",
   "metadata": {},
   "outputs": [
    {
     "name": "stdout",
     "output_type": "stream",
     "text": [
      "Files already downloaded and verified\n",
      "Files already downloaded and verified\n"
     ]
    }
   ],
   "source": [
    "if torch.cuda.is_available():\n",
    "    device = torch.device('cuda')\n",
    "elif torch.backends.mps.is_available():\n",
    "    device = torch.device('mps')\n",
    "else:\n",
    "    device = torch.device('cpu')\n",
    "#torch.backends.cudnn.enabled = False\n",
    "val_size = 5000\n",
    "test_size = 5000\n",
    "batch_size = 64\n",
    "num_workers = 4\n",
    "pin_memory = False if device == torch.device('cpu') else True\n",
    "\n",
    "# transform = transforms.Compose([transforms.ToTensor()])\n",
    "\n",
    "\n",
    "\n",
    "# Normalize input images to [-1, 1]\n",
    "transform = transforms.Compose([\n",
    "    transforms.ToTensor(),\n",
    "    transforms.Normalize((0.5, 0.5, 0.5), (0.5, 0.5, 0.5))\n",
    "])\n",
    "\n",
    "reverse_transform = transforms.Compose([\n",
    "    transforms.Lambda(lambda x: (x + 1) / 2),  # Reverse the normalization to get values in [0, 1]\n",
    "    transforms.Lambda(lambda x: x.clamp(0, 1)),\n",
    "    transforms.Lambda(lambda x: x.permute(1, 2, 0))\n",
    "])\n",
    "\n",
    "\n",
    "# Downloading MNIST again :) Training (60k) and test(5k) + val(5k) split\n",
    "train_loader = torch.utils.data.DataLoader(datasets.CIFAR10('./CIFAR_data',\n",
    "                                            download=True,\n",
    "                                            train=True,\n",
    "                                            transform=transform),\n",
    "                                            batch_size=batch_size,\n",
    "                                            shuffle=True, num_workers=num_workers,\n",
    "                                            pin_memory=pin_memory,\n",
    "                                            drop_last=True)\n",
    "\n",
    "test_dataset = datasets.CIFAR10('./CIFAR_data',\n",
    "                               download=True,\n",
    "                               train=False,\n",
    "                               transform=transform)\n",
    "\n",
    "val_dataset, test_dataset = random_split(test_dataset, [val_size, test_size])\n",
    "\n",
    "# Test set to compare with DDPM paper\n",
    "test_loader = torch.utils.data.DataLoader(test_dataset,\n",
    "                                            batch_size=batch_size,\n",
    "                                            shuffle=False, num_workers=num_workers,\n",
    "                                            pin_memory=pin_memory)\n",
    "\n",
    "# Validation set so we can keep track of approximated FID score while training\n",
    "validation_loader = torch.utils.data.DataLoader(val_dataset,\n",
    "                                            batch_size=batch_size,\n",
    "                                            shuffle=False, num_workers=num_workers,\n",
    "                                            pin_memory=pin_memory)\n",
    "    "
   ]
  },
  {
   "cell_type": "code",
   "execution_count": 3,
   "id": "d0ae1fca-cff3-4b53-86d1-65c59740a91f",
   "metadata": {},
   "outputs": [],
   "source": [
    "# COSINE SCHEDULE\n",
    "def f(t, s=torch.tensor([0.008]), T=torch.tensor([1000])):\n",
    "    return (torch.cos((t / T + s) / (1 + s) * (torch.pi / 2)).pow(2)).clamp(max=0.99999)\n",
    "\n",
    "T = 1000\n",
    "ts = torch.arange(T)\n",
    "alpha_bar = torch.tensor([(f(t)/f(torch.tensor([0]))).clamp(max=0.99999) for t in ts]) \n",
    "beta = torch.tensor([1 - alpha_bar[t]/(alpha_bar[t-1]) if t > 0 else torch.tensor([0]) for t in ts])\n",
    "alpha = 1 - beta\n",
    "alpha = alpha.view((T, 1, 1, 1)).to(device)\n",
    "beta = beta.view((T, 1, 1, 1)).to(device)\n",
    "alpha_bar = alpha_bar.view((T, 1, 1, 1)).to(device)"
   ]
  },
  {
   "cell_type": "code",
   "execution_count": null,
   "id": "5eca76e9",
   "metadata": {},
   "outputs": [],
   "source": [
    "# Sets up alpha_bar for training and test so alpha_bar_t = alpha_bar[t]\n",
    "# LINEAR SCHEDULE\n",
    "\"\"\"T = 1000\n",
    "beta_start, beta_end = [1e-4, 2e-02]\n",
    "beta = torch.linspace(beta_start, beta_end, T)\n",
    "alpha = 1-beta\n",
    "alpha_bar = alpha.clone()\n",
    "for e in range(T-1):\n",
    "    alpha_bar[e+1] *= alpha_bar[e]\n",
    "\n",
    "alpha = alpha.view((1000, 1, 1, 1)).to(device)\n",
    "beta = beta.view((1000, 1, 1, 1)).to(device)\n",
    "alpha_bar = alpha_bar.view((1000, 1, 1, 1)).to(device)\"\"\""
   ]
  },
  {
   "cell_type": "markdown",
   "id": "c42fe879-ee13-4434-9a0d-de015ddd4c2f",
   "metadata": {},
   "source": [
    "## Model"
   ]
  },
  {
   "cell_type": "code",
   "execution_count": 4,
   "id": "4681b8ab",
   "metadata": {},
   "outputs": [],
   "source": [
    "import math\n",
    "class SinusoidalEmbedding(nn.Module):\n",
    "    def __init__(self, embedding_dim):\n",
    "        super(SinusoidalEmbedding, self).__init__()\n",
    "        self.embedding_dim = embedding_dim\n",
    "\n",
    "    def forward(self, t):\n",
    "        half_dim = self.embedding_dim // 2\n",
    "        freqs = torch.exp(\n",
    "            -torch.arange(half_dim, dtype=torch.float32) * math.log(10000) / half_dim\n",
    "        ).to(t.device)\n",
    "        angles = t[:, None] * freqs[None, :]\n",
    "        return torch.cat([angles.sin(), angles.cos()], dim=-1)"
   ]
  },
  {
   "cell_type": "code",
   "execution_count": 5,
   "id": "8eb1e9bc",
   "metadata": {},
   "outputs": [],
   "source": [
    "class LinearTimeEmbedding(nn.Module):\n",
    "    def __init__(self, embedding_dim):\n",
    "        super(LinearTimeEmbedding, self).__init__()\n",
    "        self.projection = nn.Linear(1, embedding_dim)  # Project the scalar to the embedding dimension\n",
    "\n",
    "    def forward(self, t):\n",
    "        return self.projection(t.unsqueeze(-1))  # Add an extra dimension for the projection\n"
   ]
  },
  {
   "cell_type": "code",
   "execution_count": 6,
   "id": "c671dbab-ffe9-4fe5-841a-80042e7593b1",
   "metadata": {},
   "outputs": [],
   "source": [
    "class ScoreNetwork0(torch.nn.Module):\n",
    "    # takes an input image and time, returns the score function\n",
    "    def __init__(self):\n",
    "        super().__init__()\n",
    "        nch = 2\n",
    "        chs = [32, 64, 128, 256, 256]\n",
    "        self._convs = torch.nn.ModuleList([\n",
    "            torch.nn.Sequential(\n",
    "                torch.nn.Conv2d(2, chs[0], kernel_size=3, padding=1),  # (batch, ch, 28, 28)\n",
    "                torch.nn.LogSigmoid(),  # (batch, 8, 28, 28)\n",
    "            ),\n",
    "            torch.nn.Sequential(\n",
    "                torch.nn.MaxPool2d(kernel_size=2, stride=2),  # (batch, ch, 14, 14)\n",
    "                torch.nn.Conv2d(chs[0], chs[1], kernel_size=3, padding=1),  # (batch, ch, 14, 14)\n",
    "                torch.nn.LogSigmoid(),  # (batch, 16, 14, 14)\n",
    "            ),\n",
    "            torch.nn.Sequential(\n",
    "                torch.nn.MaxPool2d(kernel_size=2, stride=2),  # (batch, ch, 7, 7)\n",
    "                torch.nn.Conv2d(chs[1], chs[2], kernel_size=3, padding=1),  # (batch, ch, 7, 7)\n",
    "                torch.nn.LogSigmoid(),  # (batch, 32, 7, 7)\n",
    "            ),\n",
    "            torch.nn.Sequential(\n",
    "                torch.nn.MaxPool2d(kernel_size=2, stride=2, padding=1),  # (batch, ch, 4, 4)\n",
    "                torch.nn.Conv2d(chs[2], chs[3], kernel_size=3, padding=1),  # (batch, ch, 4, 4)\n",
    "                torch.nn.LogSigmoid(),  # (batch, 64, 4, 4)\n",
    "            ),\n",
    "            torch.nn.Sequential(\n",
    "                torch.nn.MaxPool2d(kernel_size=2, stride=2),  # (batch, ch, 2, 2)\n",
    "                torch.nn.Conv2d(chs[3], chs[4], kernel_size=3, padding=1),  # (batch, ch, 2, 2)\n",
    "                torch.nn.LogSigmoid(),  # (batch, 64, 2, 2)\n",
    "            ),\n",
    "        ])\n",
    "        self._tconvs = torch.nn.ModuleList([\n",
    "            torch.nn.Sequential(\n",
    "                # input is the output of convs[4]\n",
    "                torch.nn.ConvTranspose2d(chs[4], chs[3], kernel_size=3, stride=2, padding=1, output_padding=1),  # (batch, 64, 4, 4)\n",
    "                torch.nn.LogSigmoid(),\n",
    "            ),\n",
    "            torch.nn.Sequential(\n",
    "                # input is the output from the above sequential concated with the output from convs[3]\n",
    "                torch.nn.ConvTranspose2d(chs[3] * 2, chs[2], kernel_size=3, stride=2, padding=1, output_padding=0),  # (batch, 32, 7, 7)\n",
    "                torch.nn.LogSigmoid(),\n",
    "            ),\n",
    "            torch.nn.Sequential(\n",
    "                # input is the output from the above sequential concated with the output from convs[2]\n",
    "                torch.nn.ConvTranspose2d(chs[2] * 2, chs[1], kernel_size=3, stride=2, padding=1, output_padding=1),  # (batch, chs[2], 14, 14)\n",
    "                torch.nn.LogSigmoid(),\n",
    "            ),\n",
    "            torch.nn.Sequential(\n",
    "                # input is the output from the above sequential concated with the output from convs[1]\n",
    "                torch.nn.ConvTranspose2d(chs[1] * 2, chs[0], kernel_size=3, stride=2, padding=1, output_padding=1),  # (batch, chs[1], 28, 28)\n",
    "                torch.nn.LogSigmoid(),\n",
    "            ),\n",
    "            torch.nn.Sequential(\n",
    "                # input is the output from the above sequential concated with the output from convs[0]\n",
    "                torch.nn.Conv2d(chs[0] * 2, chs[0], kernel_size=3, padding=1),  # (batch, chs[0], 28, 28)\n",
    "                torch.nn.LogSigmoid(),\n",
    "                torch.nn.Conv2d(chs[0], 1, kernel_size=3, padding=1),  # (batch, 1, 28, 28)\n",
    "            ),\n",
    "        ])\n",
    "\n",
    "    def forward(self, x: torch.Tensor, t: torch.Tensor) -> torch.Tensor:\n",
    "        # x: (..., ch0 * 28 * 28), t: (..., 1)\n",
    "        x2 = torch.reshape(x, (*x.shape[:-1], 1, 32, 32))  # (..., ch0, 28, 28)\n",
    "        tt = t[..., None, None].expand(*t.shape[:-1], 1, 32, 32)  # (..., 1, 28, 28)\n",
    "        x2t = torch.cat((x2, tt), dim=-3)\n",
    "        signal = x2t\n",
    "        signals = []\n",
    "        for i, conv in enumerate(self._convs):\n",
    "            signal = conv(signal)\n",
    "            if i < len(self._convs) - 1:\n",
    "                signals.append(signal)\n",
    "\n",
    "        for i, tconv in enumerate(self._tconvs):\n",
    "            if i == 0:\n",
    "                signal = tconv(signal)\n",
    "            else:\n",
    "                signal = torch.cat((signal, signals[-i]), dim=-3)\n",
    "                signal = tconv(signal)\n",
    "        signal = torch.reshape(signal, (*signal.shape[:-3], -1))  # (..., 1 * 28 * 28)\n",
    "        return signal\n",
    "\n",
    "score_network = ScoreNetwork0()"
   ]
  },
  {
   "cell_type": "markdown",
   "id": "9f04a5df-da69-407e-9285-90de11992cef",
   "metadata": {},
   "source": [
    "## Training loop"
   ]
  },
  {
   "cell_type": "code",
   "execution_count": 7,
   "id": "b8403ab0-aea6-492a-98b9-31ab55064c7d",
   "metadata": {},
   "outputs": [],
   "source": [
    "#from UNET import UNET\n",
    "epochs = 200\n",
    "model = ScoreNetwork0()\n",
    "model.to(device)\n",
    "model.train()\n",
    "optimizer = torch.optim.Adam(model.parameters(), lr=1e-4)\n",
    "criterion = torch.nn.MSELoss(reduction=\"sum\")\n",
    "running_loss = 0\n",
    "\n",
    "# Initialize the linear time embedding layer\n",
    "time_embedding_dim = 128  # You can set this to any suitable size\n",
    "time_embedding_layer = LinearTimeEmbedding(time_embedding_dim).to(device)"
   ]
  },
  {
   "cell_type": "code",
   "execution_count": null,
   "id": "8dc7e14a-63cd-4432-8f07-43fd00841fc8",
   "metadata": {},
   "outputs": [
    {
     "name": "stdout",
     "output_type": "stream",
     "text": [
      "tensor(1.) tensor(-1.)\n",
      "tensor(1.) tensor(-1.)\n",
      "tensor(1.) tensor(-1.)\n",
      "tensor(1.) tensor(-1.)\n",
      "tensor(1.) tensor(-1.)\n",
      "tensor(1.) tensor(-1.)\n",
      "tensor(1.) tensor(-1.)\n",
      "tensor(1.) tensor(-1.)\n",
      "tensor(1.) tensor(-1.)\n",
      "tensor(1.) tensor(-1.)\n",
      "tensor(1.) tensor(-1.)\n",
      "tensor(1.) tensor(-1.)\n",
      "tensor(1.) tensor(-1.)\n",
      "tensor(1.) tensor(-1.)\n",
      "tensor(1.) tensor(-1.)\n",
      "tensor(1.) tensor(-1.)\n",
      "tensor(1.) tensor(-1.)\n",
      "tensor(1.) tensor(-1.)\n",
      "tensor(1.) tensor(-1.)\n",
      "tensor(1.) tensor(-1.)\n",
      "tensor(1.) tensor(-1.)\n",
      "tensor(1.) tensor(-1.)\n",
      "tensor(1.) tensor(-1.)\n",
      "tensor(1.) tensor(-1.)\n",
      "tensor(1.) tensor(-1.)\n",
      "tensor(1.) tensor(-1.)\n",
      "tensor(1.) tensor(-1.)\n",
      "tensor(1.) tensor(-1.)\n",
      "tensor(1.) tensor(-1.)\n",
      "tensor(1.) tensor(-1.)\n",
      "tensor(1.) tensor(-1.)\n",
      "tensor(1.) tensor(-1.)\n",
      "tensor(1.) tensor(-1.)\n",
      "tensor(1.) tensor(-1.)\n",
      "tensor(1.) tensor(-1.)\n",
      "tensor(1.) tensor(-1.)\n",
      "tensor(1.) tensor(-1.)\n",
      "tensor(1.) tensor(-1.)\n",
      "tensor(1.) tensor(-1.)\n",
      "tensor(1.) tensor(-1.)\n",
      "tensor(1.) tensor(-1.)\n",
      "tensor(1.) tensor(-1.)\n",
      "tensor(1.) tensor(-1.)\n",
      "tensor(1.) tensor(-1.)\n",
      "tensor(1.) tensor(-1.)\n",
      "tensor(1.) tensor(-1.)\n",
      "tensor(1.) tensor(-1.)\n",
      "tensor(1.) tensor(-1.)\n",
      "tensor(1.) tensor(-1.)\n",
      "tensor(1.) tensor(-1.)\n",
      "tensor(1.) tensor(-1.)\n",
      "tensor(1.) tensor(-1.)\n",
      "tensor(1.) tensor(-1.)\n",
      "tensor(1.) tensor(-1.)\n",
      "tensor(1.) tensor(-1.)\n",
      "tensor(1.) tensor(-1.)\n",
      "tensor(1.) tensor(-1.)\n",
      "tensor(1.) tensor(-1.)\n",
      "tensor(1.) tensor(-1.)\n",
      "tensor(1.) tensor(-1.)\n",
      "tensor(1.) tensor(-1.)\n",
      "tensor(1.) tensor(-1.)\n",
      "tensor(1.) tensor(-1.)\n",
      "tensor(1.) tensor(-1.)\n",
      "tensor(1.) tensor(-1.)\n",
      "tensor(1.) tensor(-1.)\n",
      "tensor(1.) tensor(-1.)\n",
      "tensor(1.) tensor(-1.)\n",
      "tensor(1.) tensor(-1.)\n",
      "tensor(1.) tensor(-1.)\n",
      "tensor(1.) tensor(-1.)\n",
      "tensor(1.) tensor(-1.)\n",
      "tensor(1.) tensor(-1.)\n",
      "tensor(1.) tensor(-1.)\n",
      "tensor(1.) tensor(-1.)\n",
      "tensor(1.) tensor(-1.)\n",
      "tensor(1.) tensor(-1.)\n",
      "tensor(1.) tensor(-1.)\n",
      "tensor(1.) tensor(-1.)\n",
      "tensor(1.) tensor(-1.)\n",
      "tensor(1.) tensor(-1.)\n",
      "tensor(1.) tensor(-1.)\n",
      "tensor(1.) tensor(-1.)\n",
      "tensor(1.) tensor(-1.)\n",
      "tensor(1.) tensor(-1.)\n",
      "tensor(1.) tensor(-1.)\n",
      "tensor(1.) tensor(-1.)\n",
      "tensor(1.) tensor(-1.)\n",
      "tensor(1.) tensor(-1.)\n",
      "tensor(1.) tensor(-1.)\n",
      "tensor(1.) tensor(-1.)\n",
      "tensor(1.) tensor(-1.)\n",
      "tensor(1.) tensor(-1.)\n",
      "tensor(1.) tensor(-1.)\n",
      "tensor(1.) tensor(-1.)\n",
      "tensor(1.) tensor(-1.)\n",
      "tensor(1.) tensor(-1.)\n",
      "tensor(1.) tensor(-1.)\n",
      "tensor(1.) tensor(-1.)\n",
      "tensor(1.) tensor(-1.)\n",
      "tensor(1.) tensor(-1.)\n",
      "tensor(1.) tensor(-1.)\n",
      "tensor(1.) tensor(-1.)\n",
      "tensor(1.) tensor(-1.)\n",
      "tensor(1.) tensor(-1.)\n",
      "tensor(1.) tensor(-1.)\n",
      "tensor(1.) tensor(-1.)\n",
      "tensor(1.) tensor(-1.)\n",
      "tensor(1.) tensor(-1.)\n",
      "tensor(1.) tensor(-1.)\n",
      "tensor(1.) tensor(-1.)\n",
      "tensor(1.) tensor(-1.)\n",
      "tensor(1.) tensor(-1.)\n",
      "tensor(1.) tensor(-1.)\n",
      "tensor(1.) tensor(-1.)\n",
      "tensor(1.) tensor(-1.)\n",
      "tensor(1.) tensor(-1.)\n",
      "tensor(1.) tensor(-1.)\n",
      "tensor(1.) tensor(-1.)\n",
      "tensor(1.) tensor(-1.)\n",
      "tensor(1.) tensor(-1.)\n",
      "tensor(1.) tensor(-1.)\n",
      "tensor(1.) tensor(-1.)\n",
      "tensor(1.) tensor(-1.)\n",
      "tensor(1.) tensor(-1.)\n",
      "tensor(1.) tensor(-1.)\n",
      "tensor(1.) tensor(-1.)\n",
      "tensor(1.) tensor(-1.)\n",
      "tensor(1.) tensor(-1.)\n",
      "tensor(1.) tensor(-1.)\n",
      "tensor(1.) tensor(-1.)\n",
      "tensor(1.) tensor(-1.)\n",
      "tensor(1.) tensor(-1.)\n",
      "tensor(1.) tensor(-1.)\n",
      "tensor(1.) tensor(-1.)\n",
      "tensor(1.) tensor(-1.)\n",
      "tensor(1.) tensor(-1.)\n",
      "tensor(1.) tensor(-1.)\n",
      "tensor(1.) tensor(-1.)\n",
      "tensor(1.) tensor(-1.)\n",
      "tensor(1.) tensor(-1.)\n",
      "tensor(1.) tensor(-1.)\n",
      "tensor(1.) tensor(-1.)\n",
      "tensor(1.) tensor(-1.)\n",
      "tensor(1.) tensor(-1.)\n",
      "tensor(1.) tensor(-1.)\n",
      "tensor(1.) tensor(-1.)\n",
      "tensor(1.) tensor(-1.)\n",
      "tensor(1.) tensor(-1.)\n",
      "tensor(1.) tensor(-1.)\n",
      "tensor(1.) tensor(-1.)\n",
      "tensor(1.) tensor(-1.)\n",
      "tensor(1.) tensor(-1.)\n",
      "tensor(1.) tensor(-1.)\n",
      "tensor(1.) tensor(-1.)\n",
      "tensor(1.) tensor(-1.)\n",
      "tensor(1.) tensor(-1.)\n",
      "tensor(1.) tensor(-1.)\n",
      "tensor(1.) tensor(-1.)\n",
      "tensor(1.) tensor(-1.)\n",
      "tensor(1.) tensor(-1.)\n",
      "tensor(1.) tensor(-1.)\n",
      "tensor(1.) tensor(-1.)\n",
      "tensor(1.) tensor(-1.)\n",
      "tensor(1.) tensor(-1.)\n",
      "tensor(1.) tensor(-1.)\n",
      "tensor(1.) tensor(-1.)\n",
      "tensor(1.) tensor(-1.)\n",
      "tensor(1.) tensor(-1.)\n",
      "tensor(1.) tensor(-1.)\n",
      "tensor(1.) tensor(-1.)\n",
      "tensor(1.) tensor(-1.)\n",
      "tensor(1.) tensor(-1.)\n",
      "tensor(1.) tensor(-1.)\n",
      "tensor(1.) tensor(-1.)\n",
      "tensor(1.) tensor(-1.)\n",
      "tensor(1.) tensor(-1.)\n",
      "tensor(1.) tensor(-1.)\n",
      "tensor(1.) tensor(-1.)\n",
      "tensor(1.) tensor(-1.)\n",
      "tensor(1.) tensor(-1.)\n",
      "tensor(1.) tensor(-1.)\n",
      "tensor(1.) tensor(-1.)\n",
      "tensor(1.) tensor(-1.)\n",
      "tensor(1.) tensor(-1.)\n",
      "tensor(1.) tensor(-1.)\n",
      "tensor(1.) tensor(-1.)\n",
      "tensor(1.) tensor(-1.)\n",
      "tensor(1.) tensor(-1.)\n",
      "tensor(1.) tensor(-1.)\n",
      "tensor(1.) tensor(-1.)\n",
      "tensor(1.) tensor(-1.)\n",
      "tensor(1.) tensor(-1.)\n",
      "tensor(1.) tensor(-1.)\n",
      "tensor(1.) tensor(-1.)\n",
      "tensor(1.) tensor(-1.)\n",
      "tensor(1.) tensor(-1.)\n",
      "tensor(1.) tensor(-1.)\n",
      "tensor(1.) tensor(-1.)\n",
      "tensor(1.) tensor(-1.)\n",
      "tensor(1.) tensor(-1.)\n",
      "tensor(1.) tensor(-1.)\n",
      "tensor(1.) tensor(-1.)\n",
      "tensor(1.) tensor(-1.)\n",
      "tensor(1.) tensor(-1.)\n",
      "tensor(1.) tensor(-1.)\n",
      "tensor(1.) tensor(-1.)\n",
      "tensor(1.) tensor(-1.)\n",
      "tensor(1.) tensor(-1.)\n",
      "tensor(1.) tensor(-1.)\n",
      "tensor(1.) tensor(-1.)\n",
      "tensor(1.) tensor(-1.)\n",
      "tensor(1.) tensor(-1.)\n",
      "tensor(1.) tensor(-1.)\n",
      "tensor(1.) tensor(-1.)\n",
      "tensor(1.) tensor(-1.)\n",
      "tensor(1.) tensor(-1.)\n",
      "tensor(1.) tensor(-1.)\n"
     ]
    },
    {
     "ename": "KeyboardInterrupt",
     "evalue": "",
     "output_type": "error",
     "traceback": [
      "\u001b[1;31m---------------------------------------------------------------------------\u001b[0m",
      "\u001b[1;31mKeyboardInterrupt\u001b[0m                         Traceback (most recent call last)",
      "Cell \u001b[1;32mIn[14], line 21\u001b[0m\n\u001b[0;32m     19\u001b[0m \u001b[38;5;28mprint\u001b[39m(x0\u001b[38;5;241m.\u001b[39mmax(),x0\u001b[38;5;241m.\u001b[39mmin())\n\u001b[0;32m     20\u001b[0m x_t \u001b[38;5;241m=\u001b[39m torch\u001b[38;5;241m.\u001b[39msqrt(alpha_bar[t]) \u001b[38;5;241m*\u001b[39m x0 \u001b[38;5;241m+\u001b[39m torch\u001b[38;5;241m.\u001b[39msqrt(\u001b[38;5;241m1\u001b[39m \u001b[38;5;241m-\u001b[39m alpha_bar[t]) \u001b[38;5;241m*\u001b[39m eps\n\u001b[1;32m---> 21\u001b[0m predicted_eps \u001b[38;5;241m=\u001b[39m model(x_t, t_emb)  \u001b[38;5;66;03m# Pass the precomputed embedding to the model\u001b[39;00m\n\u001b[0;32m     22\u001b[0m loss \u001b[38;5;241m=\u001b[39m criterion(predicted_eps, eps)\n\u001b[0;32m     23\u001b[0m optimizer\u001b[38;5;241m.\u001b[39mzero_grad()\n",
      "File \u001b[1;32mc:\\Users\\shan\\anaconda3\\Lib\\site-packages\\torch\\nn\\modules\\module.py:1511\u001b[0m, in \u001b[0;36mModule._wrapped_call_impl\u001b[1;34m(self, *args, **kwargs)\u001b[0m\n\u001b[0;32m   1509\u001b[0m     \u001b[38;5;28;01mreturn\u001b[39;00m \u001b[38;5;28mself\u001b[39m\u001b[38;5;241m.\u001b[39m_compiled_call_impl(\u001b[38;5;241m*\u001b[39margs, \u001b[38;5;241m*\u001b[39m\u001b[38;5;241m*\u001b[39mkwargs)  \u001b[38;5;66;03m# type: ignore[misc]\u001b[39;00m\n\u001b[0;32m   1510\u001b[0m \u001b[38;5;28;01melse\u001b[39;00m:\n\u001b[1;32m-> 1511\u001b[0m     \u001b[38;5;28;01mreturn\u001b[39;00m \u001b[38;5;28mself\u001b[39m\u001b[38;5;241m.\u001b[39m_call_impl(\u001b[38;5;241m*\u001b[39margs, \u001b[38;5;241m*\u001b[39m\u001b[38;5;241m*\u001b[39mkwargs)\n",
      "File \u001b[1;32mc:\\Users\\shan\\anaconda3\\Lib\\site-packages\\torch\\nn\\modules\\module.py:1520\u001b[0m, in \u001b[0;36mModule._call_impl\u001b[1;34m(self, *args, **kwargs)\u001b[0m\n\u001b[0;32m   1515\u001b[0m \u001b[38;5;66;03m# If we don't have any hooks, we want to skip the rest of the logic in\u001b[39;00m\n\u001b[0;32m   1516\u001b[0m \u001b[38;5;66;03m# this function, and just call forward.\u001b[39;00m\n\u001b[0;32m   1517\u001b[0m \u001b[38;5;28;01mif\u001b[39;00m \u001b[38;5;129;01mnot\u001b[39;00m (\u001b[38;5;28mself\u001b[39m\u001b[38;5;241m.\u001b[39m_backward_hooks \u001b[38;5;129;01mor\u001b[39;00m \u001b[38;5;28mself\u001b[39m\u001b[38;5;241m.\u001b[39m_backward_pre_hooks \u001b[38;5;129;01mor\u001b[39;00m \u001b[38;5;28mself\u001b[39m\u001b[38;5;241m.\u001b[39m_forward_hooks \u001b[38;5;129;01mor\u001b[39;00m \u001b[38;5;28mself\u001b[39m\u001b[38;5;241m.\u001b[39m_forward_pre_hooks\n\u001b[0;32m   1518\u001b[0m         \u001b[38;5;129;01mor\u001b[39;00m _global_backward_pre_hooks \u001b[38;5;129;01mor\u001b[39;00m _global_backward_hooks\n\u001b[0;32m   1519\u001b[0m         \u001b[38;5;129;01mor\u001b[39;00m _global_forward_hooks \u001b[38;5;129;01mor\u001b[39;00m _global_forward_pre_hooks):\n\u001b[1;32m-> 1520\u001b[0m     \u001b[38;5;28;01mreturn\u001b[39;00m forward_call(\u001b[38;5;241m*\u001b[39margs, \u001b[38;5;241m*\u001b[39m\u001b[38;5;241m*\u001b[39mkwargs)\n\u001b[0;32m   1522\u001b[0m \u001b[38;5;28;01mtry\u001b[39;00m:\n\u001b[0;32m   1523\u001b[0m     result \u001b[38;5;241m=\u001b[39m \u001b[38;5;28;01mNone\u001b[39;00m\n",
      "Cell \u001b[1;32mIn[6], line 108\u001b[0m, in \u001b[0;36mUNET.forward\u001b[1;34m(self, x, t_emb)\u001b[0m\n\u001b[0;32m    106\u001b[0m     \u001b[38;5;28;01melse\u001b[39;00m:\n\u001b[0;32m    107\u001b[0m         signal \u001b[38;5;241m=\u001b[39m torch\u001b[38;5;241m.\u001b[39mcat((signal, signals[\u001b[38;5;241m-\u001b[39mi]), dim\u001b[38;5;241m=\u001b[39m\u001b[38;5;241m-\u001b[39m\u001b[38;5;241m3\u001b[39m)\n\u001b[1;32m--> 108\u001b[0m         signal \u001b[38;5;241m=\u001b[39m tconv(signal)\n\u001b[0;32m    110\u001b[0m \u001b[38;5;28;01mreturn\u001b[39;00m signal\n",
      "File \u001b[1;32mc:\\Users\\shan\\anaconda3\\Lib\\site-packages\\torch\\nn\\modules\\module.py:1511\u001b[0m, in \u001b[0;36mModule._wrapped_call_impl\u001b[1;34m(self, *args, **kwargs)\u001b[0m\n\u001b[0;32m   1509\u001b[0m     \u001b[38;5;28;01mreturn\u001b[39;00m \u001b[38;5;28mself\u001b[39m\u001b[38;5;241m.\u001b[39m_compiled_call_impl(\u001b[38;5;241m*\u001b[39margs, \u001b[38;5;241m*\u001b[39m\u001b[38;5;241m*\u001b[39mkwargs)  \u001b[38;5;66;03m# type: ignore[misc]\u001b[39;00m\n\u001b[0;32m   1510\u001b[0m \u001b[38;5;28;01melse\u001b[39;00m:\n\u001b[1;32m-> 1511\u001b[0m     \u001b[38;5;28;01mreturn\u001b[39;00m \u001b[38;5;28mself\u001b[39m\u001b[38;5;241m.\u001b[39m_call_impl(\u001b[38;5;241m*\u001b[39margs, \u001b[38;5;241m*\u001b[39m\u001b[38;5;241m*\u001b[39mkwargs)\n",
      "File \u001b[1;32mc:\\Users\\shan\\anaconda3\\Lib\\site-packages\\torch\\nn\\modules\\module.py:1520\u001b[0m, in \u001b[0;36mModule._call_impl\u001b[1;34m(self, *args, **kwargs)\u001b[0m\n\u001b[0;32m   1515\u001b[0m \u001b[38;5;66;03m# If we don't have any hooks, we want to skip the rest of the logic in\u001b[39;00m\n\u001b[0;32m   1516\u001b[0m \u001b[38;5;66;03m# this function, and just call forward.\u001b[39;00m\n\u001b[0;32m   1517\u001b[0m \u001b[38;5;28;01mif\u001b[39;00m \u001b[38;5;129;01mnot\u001b[39;00m (\u001b[38;5;28mself\u001b[39m\u001b[38;5;241m.\u001b[39m_backward_hooks \u001b[38;5;129;01mor\u001b[39;00m \u001b[38;5;28mself\u001b[39m\u001b[38;5;241m.\u001b[39m_backward_pre_hooks \u001b[38;5;129;01mor\u001b[39;00m \u001b[38;5;28mself\u001b[39m\u001b[38;5;241m.\u001b[39m_forward_hooks \u001b[38;5;129;01mor\u001b[39;00m \u001b[38;5;28mself\u001b[39m\u001b[38;5;241m.\u001b[39m_forward_pre_hooks\n\u001b[0;32m   1518\u001b[0m         \u001b[38;5;129;01mor\u001b[39;00m _global_backward_pre_hooks \u001b[38;5;129;01mor\u001b[39;00m _global_backward_hooks\n\u001b[0;32m   1519\u001b[0m         \u001b[38;5;129;01mor\u001b[39;00m _global_forward_hooks \u001b[38;5;129;01mor\u001b[39;00m _global_forward_pre_hooks):\n\u001b[1;32m-> 1520\u001b[0m     \u001b[38;5;28;01mreturn\u001b[39;00m forward_call(\u001b[38;5;241m*\u001b[39margs, \u001b[38;5;241m*\u001b[39m\u001b[38;5;241m*\u001b[39mkwargs)\n\u001b[0;32m   1522\u001b[0m \u001b[38;5;28;01mtry\u001b[39;00m:\n\u001b[0;32m   1523\u001b[0m     result \u001b[38;5;241m=\u001b[39m \u001b[38;5;28;01mNone\u001b[39;00m\n",
      "File \u001b[1;32mc:\\Users\\shan\\anaconda3\\Lib\\site-packages\\torch\\nn\\modules\\container.py:217\u001b[0m, in \u001b[0;36mSequential.forward\u001b[1;34m(self, input)\u001b[0m\n\u001b[0;32m    215\u001b[0m \u001b[38;5;28;01mdef\u001b[39;00m \u001b[38;5;21mforward\u001b[39m(\u001b[38;5;28mself\u001b[39m, \u001b[38;5;28minput\u001b[39m):\n\u001b[0;32m    216\u001b[0m     \u001b[38;5;28;01mfor\u001b[39;00m module \u001b[38;5;129;01min\u001b[39;00m \u001b[38;5;28mself\u001b[39m:\n\u001b[1;32m--> 217\u001b[0m         \u001b[38;5;28minput\u001b[39m \u001b[38;5;241m=\u001b[39m module(\u001b[38;5;28minput\u001b[39m)\n\u001b[0;32m    218\u001b[0m     \u001b[38;5;28;01mreturn\u001b[39;00m \u001b[38;5;28minput\u001b[39m\n",
      "File \u001b[1;32mc:\\Users\\shan\\anaconda3\\Lib\\site-packages\\torch\\nn\\modules\\module.py:1511\u001b[0m, in \u001b[0;36mModule._wrapped_call_impl\u001b[1;34m(self, *args, **kwargs)\u001b[0m\n\u001b[0;32m   1509\u001b[0m     \u001b[38;5;28;01mreturn\u001b[39;00m \u001b[38;5;28mself\u001b[39m\u001b[38;5;241m.\u001b[39m_compiled_call_impl(\u001b[38;5;241m*\u001b[39margs, \u001b[38;5;241m*\u001b[39m\u001b[38;5;241m*\u001b[39mkwargs)  \u001b[38;5;66;03m# type: ignore[misc]\u001b[39;00m\n\u001b[0;32m   1510\u001b[0m \u001b[38;5;28;01melse\u001b[39;00m:\n\u001b[1;32m-> 1511\u001b[0m     \u001b[38;5;28;01mreturn\u001b[39;00m \u001b[38;5;28mself\u001b[39m\u001b[38;5;241m.\u001b[39m_call_impl(\u001b[38;5;241m*\u001b[39margs, \u001b[38;5;241m*\u001b[39m\u001b[38;5;241m*\u001b[39mkwargs)\n",
      "File \u001b[1;32mc:\\Users\\shan\\anaconda3\\Lib\\site-packages\\torch\\nn\\modules\\module.py:1520\u001b[0m, in \u001b[0;36mModule._call_impl\u001b[1;34m(self, *args, **kwargs)\u001b[0m\n\u001b[0;32m   1515\u001b[0m \u001b[38;5;66;03m# If we don't have any hooks, we want to skip the rest of the logic in\u001b[39;00m\n\u001b[0;32m   1516\u001b[0m \u001b[38;5;66;03m# this function, and just call forward.\u001b[39;00m\n\u001b[0;32m   1517\u001b[0m \u001b[38;5;28;01mif\u001b[39;00m \u001b[38;5;129;01mnot\u001b[39;00m (\u001b[38;5;28mself\u001b[39m\u001b[38;5;241m.\u001b[39m_backward_hooks \u001b[38;5;129;01mor\u001b[39;00m \u001b[38;5;28mself\u001b[39m\u001b[38;5;241m.\u001b[39m_backward_pre_hooks \u001b[38;5;129;01mor\u001b[39;00m \u001b[38;5;28mself\u001b[39m\u001b[38;5;241m.\u001b[39m_forward_hooks \u001b[38;5;129;01mor\u001b[39;00m \u001b[38;5;28mself\u001b[39m\u001b[38;5;241m.\u001b[39m_forward_pre_hooks\n\u001b[0;32m   1518\u001b[0m         \u001b[38;5;129;01mor\u001b[39;00m _global_backward_pre_hooks \u001b[38;5;129;01mor\u001b[39;00m _global_backward_hooks\n\u001b[0;32m   1519\u001b[0m         \u001b[38;5;129;01mor\u001b[39;00m _global_forward_hooks \u001b[38;5;129;01mor\u001b[39;00m _global_forward_pre_hooks):\n\u001b[1;32m-> 1520\u001b[0m     \u001b[38;5;28;01mreturn\u001b[39;00m forward_call(\u001b[38;5;241m*\u001b[39margs, \u001b[38;5;241m*\u001b[39m\u001b[38;5;241m*\u001b[39mkwargs)\n\u001b[0;32m   1522\u001b[0m \u001b[38;5;28;01mtry\u001b[39;00m:\n\u001b[0;32m   1523\u001b[0m     result \u001b[38;5;241m=\u001b[39m \u001b[38;5;28;01mNone\u001b[39;00m\n",
      "File \u001b[1;32mc:\\Users\\shan\\anaconda3\\Lib\\site-packages\\torch\\nn\\modules\\conv.py:460\u001b[0m, in \u001b[0;36mConv2d.forward\u001b[1;34m(self, input)\u001b[0m\n\u001b[0;32m    459\u001b[0m \u001b[38;5;28;01mdef\u001b[39;00m \u001b[38;5;21mforward\u001b[39m(\u001b[38;5;28mself\u001b[39m, \u001b[38;5;28minput\u001b[39m: Tensor) \u001b[38;5;241m-\u001b[39m\u001b[38;5;241m>\u001b[39m Tensor:\n\u001b[1;32m--> 460\u001b[0m     \u001b[38;5;28;01mreturn\u001b[39;00m \u001b[38;5;28mself\u001b[39m\u001b[38;5;241m.\u001b[39m_conv_forward(\u001b[38;5;28minput\u001b[39m, \u001b[38;5;28mself\u001b[39m\u001b[38;5;241m.\u001b[39mweight, \u001b[38;5;28mself\u001b[39m\u001b[38;5;241m.\u001b[39mbias)\n",
      "File \u001b[1;32mc:\\Users\\shan\\anaconda3\\Lib\\site-packages\\torch\\nn\\modules\\conv.py:456\u001b[0m, in \u001b[0;36mConv2d._conv_forward\u001b[1;34m(self, input, weight, bias)\u001b[0m\n\u001b[0;32m    452\u001b[0m \u001b[38;5;28;01mif\u001b[39;00m \u001b[38;5;28mself\u001b[39m\u001b[38;5;241m.\u001b[39mpadding_mode \u001b[38;5;241m!=\u001b[39m \u001b[38;5;124m'\u001b[39m\u001b[38;5;124mzeros\u001b[39m\u001b[38;5;124m'\u001b[39m:\n\u001b[0;32m    453\u001b[0m     \u001b[38;5;28;01mreturn\u001b[39;00m F\u001b[38;5;241m.\u001b[39mconv2d(F\u001b[38;5;241m.\u001b[39mpad(\u001b[38;5;28minput\u001b[39m, \u001b[38;5;28mself\u001b[39m\u001b[38;5;241m.\u001b[39m_reversed_padding_repeated_twice, mode\u001b[38;5;241m=\u001b[39m\u001b[38;5;28mself\u001b[39m\u001b[38;5;241m.\u001b[39mpadding_mode),\n\u001b[0;32m    454\u001b[0m                     weight, bias, \u001b[38;5;28mself\u001b[39m\u001b[38;5;241m.\u001b[39mstride,\n\u001b[0;32m    455\u001b[0m                     _pair(\u001b[38;5;241m0\u001b[39m), \u001b[38;5;28mself\u001b[39m\u001b[38;5;241m.\u001b[39mdilation, \u001b[38;5;28mself\u001b[39m\u001b[38;5;241m.\u001b[39mgroups)\n\u001b[1;32m--> 456\u001b[0m \u001b[38;5;28;01mreturn\u001b[39;00m F\u001b[38;5;241m.\u001b[39mconv2d(\u001b[38;5;28minput\u001b[39m, weight, bias, \u001b[38;5;28mself\u001b[39m\u001b[38;5;241m.\u001b[39mstride,\n\u001b[0;32m    457\u001b[0m                 \u001b[38;5;28mself\u001b[39m\u001b[38;5;241m.\u001b[39mpadding, \u001b[38;5;28mself\u001b[39m\u001b[38;5;241m.\u001b[39mdilation, \u001b[38;5;28mself\u001b[39m\u001b[38;5;241m.\u001b[39mgroups)\n",
      "\u001b[1;31mKeyboardInterrupt\u001b[0m: "
     ]
    }
   ],
   "source": [
    "for epoch in range(epochs+1):\n",
    "    for e, data in enumerate(train_loader):\n",
    "        x0, _ = data\n",
    "        x0 = x0.to(device)\n",
    "        t = torch.randint(1, T+1, (batch_size,)).to(device)\n",
    "        #print(t.shape)\n",
    "        eps = torch.randn(batch_size, 3, 32, 32).to(device)\n",
    "        # print(eps.shape)\n",
    "        # print(x0.shape)\n",
    "        loss = criterion(eps, model(torch.sqrt(alpha_bar[t-1]) * x0 + \n",
    "                                    torch.sqrt(1 - alpha_bar[t-1]) * eps, t.view(batch_size, 1, 1, 1).expand(batch_size, 1, 32, 32) / 1000))\n",
    "        optimizer.zero_grad()\n",
    "        loss.backward()\n",
    "        optimizer.step()\n",
    "        \n",
    "        running_loss += loss.item()\n",
    "        \n",
    "        if e % 100 == 99:\n",
    "            print(f'{epoch, e+1}, loss: {running_loss:.3f}')\n",
    "            with open(\"losses\", \"a\") as file:\n",
    "                file.write(f\"{running_loss:.3f}\\n\")\n",
    "            \n",
    "            running_loss = 0.0\n",
    "        \n",
    "    if epoch in [1, 100, 200, 300, 400, 500, 800, 1100, 1400]:\n",
    "        torch.save(model.state_dict(), f\"DDPM_final_linear_{epoch}.pth\")\n",
    "torch.save(model.state_dict(), f\"DDPM_final_linear_{epoch}.pth\")"
   ]
  },
  {
   "cell_type": "markdown",
   "id": "d54a74a6-6786-43c8-9b7b-569eb01df2f2",
   "metadata": {},
   "source": [
    "# Sampling"
   ]
  },
  {
   "cell_type": "code",
   "execution_count": null,
   "id": "53f69f28-7031-48bc-96d4-85b61ba8d524",
   "metadata": {},
   "outputs": [
    {
     "name": "stdout",
     "output_type": "stream",
     "text": [
      "1.0 0.0\n"
     ]
    },
    {
     "data": {
      "text/plain": [
       "<matplotlib.image.AxesImage at 0x1410cbf71d0>"
      ]
     },
     "execution_count": 61,
     "metadata": {},
     "output_type": "execute_result"
    },
    {
     "data": {
      "image/png": "[encoded data removed]",
      "text/plain": [
       "<Figure size 640x480 with 1 Axes>"
      ]
     },
     "metadata": {},
     "output_type": "display_data"
    }
   ],
   "source": [
    "model.eval()\n",
    "batch_size = 1\n",
    "xt = torch.randn(batch_size, 3, 32, 32).to(device)\n",
    "for t in torch.arange(T, 0, -1):\n",
    "    #print(t)\n",
    "    t = t.to(device)\n",
    "    z = torch.randn(batch_size, 3, 32, 32).to(device) if t > 1 else torch.zeros(batch_size, 3, 32, 32).to(device)\n",
    "    xt_new = 1 / torch.sqrt(alpha[t - 1]) * (xt - (1 - alpha[t - 1])/(torch.sqrt(1 - alpha_bar[t - 1])) * \n",
    "                                                   model(xt, t.expand(batch_size).view(batch_size, 1, 1, 1).expand(batch_size, 1, 32, 32)/1000)) + torch.sqrt(beta[t-1]) * z\n",
    "    xt = xt_new\n",
    "    #if t == 1:\n",
    "        #print((xt - (1 - alpha[t - 1])/(torch.sqrt(1 - alpha_bar[t - 1]))))\n",
    "im = xt[0].permute(1, 2, 0)\n",
    "im = im.cpu().detach().numpy()\n",
    "im = (im + 1) / 2 \n",
    "im = im.clip(0, 1)\n",
    "#print(im.max())\n",
    "plt.imshow(im)"
   ]
  },
  {
   "cell_type": "code",
   "execution_count": null,
   "id": "1adaa066",
   "metadata": {},
   "outputs": [],
   "source": [
    "pip install pytorch-fid\n",
    "import os\n",
    "import torch\n",
    "from torchvision import datasets, transforms\n",
    "from torchvision.utils import save_image\n",
    "from pytorch_fid import fid_score\n",
    "from tqdm import tqdm\n",
    "\n",
    "valid_dir = './valid_images'\n",
    "test_dir = './test_images'\n",
    "train_dir = './train_images'\n",
    "gen_dir = './gen_images'\n",
    "os.makedirs(valid_dir, exist_ok=True)\n",
    "os.makedirs(test_dir, exist_ok=True)\n",
    "os.makedirs(train_dir, exist_ok=True)\n",
    "os.makedirs(gen_dir, exist_ok=True)\n",
    "#for epoch in [800, 1100, 1400, 1707]:\n",
    "#    os.makedirs(f\"./gen_images/{epoch}\", exist_ok=True)\n",
    "\n",
    "resize_transform = transforms.Resize((299, 299))\n",
    "\n",
    "for epoch in [1, 100, 200, 300, 400, 500, 800, 1100, 1400, 1707]:\n",
    "    model = UNET()\n",
    "    model.to(device)\n",
    "    model.load_state_dict(torch.load(f\"DDPM_final_linear_{epoch}.pth\"))\n",
    "    model.eval()\n",
    "    batch_size = 1\n",
    "    \n",
    "    print(\"Starting generation set: \")\n",
    "    for i in tqdm(range(1000)):\n",
    "        xt = torch.randn(batch_size, 3, 32, 32).to(device)\n",
    "        \n",
    "        for t in torch.arange(T, 0, -1):\n",
    "            #print(t)\n",
    "            t = t.to(device)\n",
    "            z = torch.randn(batch_size, 3, 32, 32).to(device) if t > 1 else torch.zeros(batch_size, 3, 32, 32).to(device)\n",
    "            xt_new = 1 / torch.sqrt(alpha[t - 1]) * (xt - (1 - alpha[t - 1])/(torch.sqrt(1 - alpha_bar[t - 1])) * \n",
    "                                                           model(xt, t.expand(batch_size).view(batch_size, 1, 1, 1).expand(batch_size, 1, 32, 32)/1000)) + torch.sqrt(beta[t-1]) * z\n",
    "            xt = xt_new\n",
    "            #if t == 1:\n",
    "                #print((xt - (1 - alpha[t - 1])/(torch.sqrt(1 - alpha_bar[t - 1]))))\n",
    "        im = xt[0]\n",
    "        print(im.shape)\n",
    "        im = resize_transform(im)\n",
    "        im = (im + 1) / 2\n",
    "        im = im.clamp(0, 1)\n",
    "        print(im.shape)\n",
    "        print(\"Saving generated image: \")\n",
    "        save_image(im, os.path.join(f\"./gen_images/{epoch}\", f\"{i}.png\"))\n",
    "        print(epoch, i)"
   ]
  },
  {
   "cell_type": "markdown",
   "id": "db89a984",
   "metadata": {},
   "source": [
    "# Calculate FID scores. 1 validation score per model until the last, where it calculates test and train FID score."
   ]
  },
  {
   "cell_type": "code",
   "execution_count": null,
   "id": "fc01e42b",
   "metadata": {},
   "outputs": [
    {
     "name": "stderr",
     "output_type": "stream",
     "text": [
      "100%|████████████████████████████████████████████████████████████████████████████████| 313/313 [00:27<00:00, 11.42it/s]\n",
      "100%|██████████████████████████████████████████████████████████████████████████████████| 63/63 [00:14<00:00,  4.33it/s]\n"
     ]
    },
    {
     "name": "stdout",
     "output_type": "stream",
     "text": [
      "epoch and valid / test FID Score: 800, 121.40338087697023\n"
     ]
    },
    {
     "name": "stderr",
     "output_type": "stream",
     "text": [
      "100%|████████████████████████████████████████████████████████████████████████████████| 313/313 [00:24<00:00, 13.02it/s]\n",
      "100%|██████████████████████████████████████████████████████████████████████████████████| 63/63 [00:14<00:00,  4.25it/s]\n"
     ]
    },
    {
     "name": "stdout",
     "output_type": "stream",
     "text": [
      "epoch and valid / test FID Score: 1100, 123.71948282394982\n"
     ]
    },
    {
     "name": "stderr",
     "output_type": "stream",
     "text": [
      "100%|████████████████████████████████████████████████████████████████████████████████| 313/313 [00:23<00:00, 13.08it/s]\n",
      "100%|██████████████████████████████████████████████████████████████████████████████████| 63/63 [00:14<00:00,  4.49it/s]\n"
     ]
    },
    {
     "name": "stdout",
     "output_type": "stream",
     "text": [
      "epoch and valid / test FID Score: 1400, 117.25221250102305\n"
     ]
    },
    {
     "name": "stderr",
     "output_type": "stream",
     "text": [
      "100%|████████████████████████████████████████████████████████████████████████████████| 313/313 [00:27<00:00, 11.53it/s]\n",
      "100%|██████████████████████████████████████████████████████████████████████████████████| 63/63 [00:14<00:00,  4.38it/s]\n",
      "100%|████████████████████████████████████████████████████████████████████████████████| 313/313 [00:55<00:00,  5.62it/s]\n",
      "100%|██████████████████████████████████████████████████████████████████████████████████| 63/63 [00:07<00:00,  8.40it/s]\n"
     ]
    },
    {
     "name": "stdout",
     "output_type": "stream",
     "text": [
      "epoch and valid / test FID Score: 1707, 107.45026541826462\n",
      "epoch and train set FID Score: 1707, 107.8141066126903\n"
     ]
    }
   ],
   "source": [
    "from pytorch_fid import fid_score\n",
    "validation_scores = []\n",
    "test_score = []\n",
    "train_score = []\n",
    "for epoch in [1, 100, 200, 300, 400, 500, 800, 1100, 1400, 1707]:\n",
    "        model = UNET()\n",
    "        model.to(device)\n",
    "        model.load_state_dict(torch.load(f\"DDPM_final_linear_{epoch}.pth\"))\n",
    "        model.eval()\n",
    "        if epoch != 1707:\n",
    "            fid_value = fid_score.calculate_fid_given_paths(\n",
    "                ['./valid_images', f\"./gen_images/{epoch}\"], \n",
    "                batch_size=16,\n",
    "                device=device,\n",
    "                dims=2048\n",
    "            )\n",
    "            validation_scores.append(fid_value)\n",
    "        else:\n",
    "            fid_value = fid_score.calculate_fid_given_paths(\n",
    "                ['./test_images', f\"./gen_images/{epoch}\"], \n",
    "                batch_size=16,\n",
    "                device=device,\n",
    "                dims=2048\n",
    "            )\n",
    "            test_score.append(fid_value)\n",
    "            fid_train_value = fid_score.calculate_fid_given_paths(\n",
    "                ['./train_images', f\"./gen_images/{epoch}\"], \n",
    "                batch_size=16,\n",
    "                device=device,\n",
    "                dims=2048\n",
    "            )\n",
    "            train_score.append(fid_train_value)\n",
    "        print(f\"epoch and valid FID Score: {epoch}, {validation_scores[-1]}\")\n",
    "        if epoch == 1707:\n",
    "            print(f\"epoch and test set FID Score: {epoch}, {test_score[0]}\")\n",
    "            print(f\"epoch and train set FID Score: {epoch}, {train_score[0]}\")"
   ]
  },
  {
   "cell_type": "markdown",
   "id": "0d84aafb",
   "metadata": {},
   "source": [
    "# Get one training loss per epoch"
   ]
  },
  {
   "cell_type": "code",
   "execution_count": null,
   "id": "274cb68e",
   "metadata": {},
   "outputs": [
    {
     "data": {
      "text/plain": [
       "501"
      ]
     },
     "metadata": {},
     "output_type": "display_data"
    }
   ],
   "source": [
    "with open(\"losses.txt\", \"r\") as file:\n",
    "    lines = file.readlines()\n",
    "    lines = [float(line.strip()) / 10 for line in lines]\n",
    "    indices = np.linspace(0, len(lines) - 1, 1707).astype(int)\n",
    "    all_epochs_loss = [lines[i] for i in indices]"
   ]
  },
  {
   "cell_type": "code",
   "execution_count": null,
   "id": "15ef5458",
   "metadata": {},
   "outputs": [],
   "source": [
    "#with open(\"losses_501toandwith1707.txt\", \"r\") as file:\n",
    "#    lines = file.readlines()\n",
    "#    lines = [float(line.strip()) / 10 for line in lines]\n",
    "#    indices = np.linspace(0, len(lines) - 1, 1207).astype(int)\n",
    "#    last_1207_epochs_loss = [lines[i] for i in indices]\n",
    "#len(last_1207_epochs_loss)\n",
    "#first_500_epochs_loss.extend(last_1207_epochs_loss)"
   ]
  },
  {
   "cell_type": "markdown",
   "id": "fb74da2c",
   "metadata": {},
   "source": [
    "# Plot everything, remember to change title"
   ]
  },
  {
   "cell_type": "code",
   "execution_count": null,
   "id": "ce72d69d",
   "metadata": {},
   "outputs": [
    {
     "name": "stdout",
     "output_type": "stream",
     "text": [
      "['Solarize_Light2', '_classic_test_patch', '_mpl-gallery', '_mpl-gallery-nogrid', 'bmh', 'classic', 'dark_background', 'fast', 'fivethirtyeight', 'ggplot', 'grayscale', 'seaborn-v0_8', 'seaborn-v0_8-bright', 'seaborn-v0_8-colorblind', 'seaborn-v0_8-dark', 'seaborn-v0_8-dark-palette', 'seaborn-v0_8-darkgrid', 'seaborn-v0_8-deep', 'seaborn-v0_8-muted', 'seaborn-v0_8-notebook', 'seaborn-v0_8-paper', 'seaborn-v0_8-pastel', 'seaborn-v0_8-poster', 'seaborn-v0_8-talk', 'seaborn-v0_8-ticks', 'seaborn-v0_8-white', 'seaborn-v0_8-whitegrid', 'tableau-colorblind10']\n"
     ]
    },
    {
     "data": {
      "text/plain": [
       "<matplotlib.legend.Legend at 0x242e4edcb90>"
      ]
     },
     "metadata": {},
     "output_type": "display_data"
    },
    {
     "data": {
      "image/png": "[encoded data removed]",
      "text/plain": [
       "<Figure size 640x440 with 2 Axes>"
      ]
     },
     "metadata": {},
     "output_type": "display_data"
    }
   ],
   "source": [
    "#valid_fid_scores = [349.9, 141.6, 150.1, 137.1, 125.4, 124.3, 121.4, 123.7, 117.3]\n",
    "#test_fid_score = [107.5]\n",
    "#train_fid_score = [107.8]\n",
    "\n",
    "epochs_valid_fid = validation_scores\n",
    "epochs_loss = list(range(1707+1))\n",
    "test_fid_score = test_score\n",
    "train_fid_score = train_score\n",
    "fig, ax1 = plt.subplots()\n",
    "plt.suptitle(\"CIFAR10 DDPM\")\n",
    "plt.title(\"Conc. time-embedding and linear noise schedule\")\n",
    "ax1.plot(epochs_loss, np.log(np.array(first_500_epochs_loss)), label=\"Log-loss\")\n",
    "ax1.set_xlabel('Epoch')\n",
    "ax1.set_ylabel('Log-loss', color='darkblue')\n",
    "ax1.tick_params(axis='y', labelcolor='darkblue')\n",
    "ax1.legend(loc=\"upper left\", bbox_to_anchor=(0.757, 0.85))\n",
    "ax2 = ax1.twinx()\n",
    "ax2.scatter(epochs_valid_fid, valid_fid_scores, color=\"red\", marker=\".\", label=\"Validation FID\")\n",
    "ax2.set_ylabel('FID', color='darkred')\n",
    "ax2.tick_params(axis='y', labelcolor='darkred')\n",
    "ax2.scatter([1707], test_fid_score, label=\"Test and train FID\", marker=\"*\", color=\"orange\")\n",
    "ax2.legend()\n"
   ]
  },
  {
   "cell_type": "markdown",
   "id": "a7612842",
   "metadata": {},
   "source": [
    "# Overfit one batch"
   ]
  },
  {
   "cell_type": "code",
   "execution_count": null,
   "id": "4ac8f961",
   "metadata": {},
   "outputs": [],
   "source": [
    "#from UNET import UNET\n",
    "\n",
    "model = UNET().to(device)\n",
    "# Initialize the linear time embedding layer\n",
    "time_embedding_dim = 128  # You can set this to any suitable size\n",
    "time_embedding_layer = LinearTimeEmbedding(time_embedding_dim).to(device)\n",
    "\n",
    "# Get a single image from the batch\n",
    "single_batch, _ = next(iter(train_loader))\n",
    "single_batch = single_batch[0].unsqueeze(0).to(device)\n",
    "single_batchs = single_batch.repeat(1, 1, 1, 1)\n",
    "# Set the model to training mode\n",
    "model.train()\n",
    "\n",
    "# Define the optimizer and loss function\n",
    "optimizer = torch.optim.Adam(model.parameters(), lr=1e-4)\n",
    "criterion = torch.nn.MSELoss(reduction=\"sum\")\n",
    "plot_every = 400\n",
    "\n",
    "running_loss = 0\n",
    "# Training loop to overfit one batch\n",
    "epochs = 5000\n",
    "for epoch in range(epochs):\n",
    "    t = torch.randint(0, T, (1,), device=device)\n",
    "    t_norm = t.float() / T # Normalize the time to [0, 1]\n",
    "    t_emb = time_embedding_layer(t_norm)  # Shape: [1, embedding_dim]\n",
    "    eps = torch.randn_like(single_batchs).to(device)\n",
    "    x_t = torch.sqrt(alpha_bar[t]) * single_batchs + torch.sqrt(1 - alpha_bar[t]) * eps\n",
    "    predicted_eps = model(x_t, t_emb)  # Pass the precomputed embedding to the model\n",
    "    loss = criterion(predicted_eps, eps)\n",
    "    optimizer.zero_grad()\n",
    "    loss.backward()\n",
    "    optimizer.step()\n",
    "\n",
    "    running_loss += loss.item()\n",
    "\n",
    "    if epoch % 100 == 99:\n",
    "        print(f\"Epoch {epoch}, Average Loss: {running_loss / 100:.4f}\")\n",
    "        running_loss = 0.0  \n",
    "\n",
    "    # if epoch % plot_every == 0:\n",
    "    #     with torch.inference_mode():\n",
    "    #         model.eval()\n",
    "    #         t = torch.randint(0, T, (1,), device=device)\n",
    "    #         t_emb = time_embedding_layer(t)\n",
    "    #         eps = torch.randn_like(single_batch).to(device)\n",
    "    #         x_t = torch.sqrt(alpha_bar[t]) * single_batch + torch.sqrt(1 - alpha_bar[t]) * eps\n",
    "    #         predicted_eps = model(x_t, t_emb)\n",
    "    #         reconstructed = x_t - predicted_eps\n",
    "    #         fig, axs = plt.subplots(1, 3, tight_layout=True)\n",
    "    #         axs[0].imshow(predicted_eps[0][0].cpu().detach().numpy(), cmap=\"gray\")\n",
    "    #         axs[0].set_title(\"Predicted Noise\")\n",
    "    #         axs[1].imshow(eps[0][0].cpu().detach().numpy(), cmap=\"gray\")\n",
    "    #         axs[1].set_title(\"True Noise\")\n",
    "    #         axs[2].imshow(np.abs(predicted_eps[0][0].cpu().detach().numpy()-eps[0][0].cpu().detach().numpy()), cmap=\"gray\")\n",
    "    #         axs[2].set_title(\"Difference in noise\")\n",
    "    #         plt.show()"
   ]
  },
  {
   "cell_type": "code",
   "execution_count": 26,
   "id": "3a72823c",
   "metadata": {},
   "outputs": [
    {
     "name": "stderr",
     "output_type": "stream",
     "text": [
      "Clipping input data to the valid range for imshow with RGB data ([0..1] for floats or [0..255] for integers).\n"
     ]
    },
    {
     "name": "stdout",
     "output_type": "stream",
     "text": [
      "47.826073 0.8980392\n",
      "-29.50021 0.011764705\n"
     ]
    },
    {
     "data": {
      "image/png": "[encoded data removed]",
      "text/plain": [
       "<Figure size 640x480 with 2 Axes>"
      ]
     },
     "metadata": {},
     "output_type": "display_data"
    }
   ],
   "source": [
    "# Set the model to evaluation mode\n",
    "model.eval()\n",
    "\n",
    "# Initialize a random noise tensor\n",
    "xt = torch.randn(1, 3, 32, 32).to(device)\n",
    "\n",
    "# Perform the reverse diffusion process\n",
    "with torch.no_grad():\n",
    "    for t in torch.arange(T-1, -1, -1):\n",
    "        t = t.reshape(1).to(device)\n",
    "        t_emb = time_embedding_layer(t.float())\n",
    "        z = torch.randn(1, 3, 32, 32).to(device) if t > 1 else torch.zeros(1, 3, 32, 32).to(device)\n",
    "        \n",
    "        xt_new = 1 / torch.sqrt(alpha[t]) * (xt - (1 - alpha[t]) / torch.sqrt(1 - alpha_bar[t]) * model(xt, t_emb)) + torch.sqrt(beta[t]) * z\n",
    "        xt = xt_new\n",
    "\n",
    "# Plot the generated image\n",
    "fig,axs = plt.subplots(1, 2, tight_layout=True)\n",
    "im_1 = reverse_transform(xt[0].permute(1, 2, 0).cpu().detach().numpy())\n",
    "axs[0].imshow(im_1)\n",
    "axs[0].set_title(\"Generated Image\")\n",
    "axs[0].axis(\"off\")\n",
    "im_2 = reverse_transform(single_batch[0].permute(1, 2, 0).cpu().detach().numpy())\n",
    "axs[1].imshow(im_2)\n",
    "axs[1].set_title(\"Original Image\")\n",
    "axs[1].axis(\"off\")\n",
    "print(im_1.max(),im_2.max())\n",
    "print(im_1.min(),im_2.min())\n",
    "plt.show()"
   ]
  },
  {
   "cell_type": "code",
   "execution_count": null,
   "id": "74fb7c99",
   "metadata": {},
   "outputs": [],
   "source": []
  }
 ],
 "metadata": {
  "kernelspec": {
   "display_name": "base",
   "language": "python",
   "name": "python3"
  },
  "language_info": {
   "codemirror_mode": {
    "name": "ipython",
    "version": 3
   },
   "file_extension": ".py",
   "mimetype": "text/x-python",
   "name": "python",
   "nbconvert_exporter": "python",
   "pygments_lexer": "ipython3",
   "version": "3.11.5"
  }
 },
 "nbformat": 4,
 "nbformat_minor": 5
}
