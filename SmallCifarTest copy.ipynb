{
 "cells": [
  {
   "cell_type": "markdown",
   "id": "def4f85a-37b5-472e-8782-a5df13c5d601",
   "metadata": {},
   "source": [
    "# Training"
   ]
  },
  {
   "cell_type": "markdown",
   "id": "6aec1af4-1d61-46ef-90b9-b972129d09a5",
   "metadata": {},
   "source": [
    "## Setup"
   ]
  },
  {
   "cell_type": "code",
   "execution_count": 1,
   "id": "3eeb867f-c38e-4e5c-ab89-a7e747ead472",
   "metadata": {},
   "outputs": [],
   "source": [
    "import torch\n",
    "import torchvision\n",
    "from torchvision import datasets, transforms\n",
    "import pandas as pd\n",
    "from torch.utils.data import random_split\n",
    "import torch.nn as nn\n",
    "import torch.nn.functional as F\n",
    "import torch.optim as optim\n",
    "import numpy as np\n",
    "import matplotlib.pyplot as plt\n",
    "#from torch.autograd import Variable"
   ]
  },
  {
   "cell_type": "code",
   "execution_count": 2,
   "id": "017d87cd-410b-44ef-ac34-560022867208",
   "metadata": {},
   "outputs": [
    {
     "name": "stdout",
     "output_type": "stream",
     "text": [
      "Files already downloaded and verified\n",
      "Files already downloaded and verified\n"
     ]
    }
   ],
   "source": [
    "if torch.cuda.is_available():\n",
    "    device = torch.device('cuda')\n",
    "elif torch.backends.mps.is_available():\n",
    "    device = torch.device('mps')\n",
    "else:\n",
    "    device = torch.device('cpu')\n",
    "#torch.backends.cudnn.enabled = False\n",
    "val_size = 5000\n",
    "test_size = 5000\n",
    "batch_size = 64\n",
    "num_workers = 4\n",
    "\n",
    "transform = transforms.Compose([transforms.ToTensor(), transforms.Normalize(mean=(0.5, 0.5, 0.5), std=(0.5, 0.5, 0.5))])\n",
    "transform_valid_test = transforms.Compose([transforms.Resize((299, 299)), \n",
    "                                           transforms.ToTensor()])\n",
    "\n",
    "# Downloading MNIST again :) Training (60k) and test(5k) + val(5k) split\n",
    "train_loader = torch.utils.data.DataLoader(datasets.CIFAR10('./CIFAR_data2',\n",
    "                                            download=True,\n",
    "                                            train=True,\n",
    "                                            transform=transform),\n",
    "                                            batch_size=batch_size,\n",
    "                                            shuffle=True, num_workers=num_workers)\n",
    "\n",
    "test_dataset = datasets.CIFAR10('./CIFAR_data2',\n",
    "                               download=True,\n",
    "                               train=False,\n",
    "                               transform=transform_valid_test)\n",
    "\n",
    "val_dataset, test_dataset = random_split(test_dataset, [val_size, test_size])\n",
    "\n",
    "# Test set to compare with DDPM paper\n",
    "test_loader = torch.utils.data.DataLoader(test_dataset,\n",
    "                                            batch_size=batch_size,\n",
    "                                            shuffle=False, num_workers=num_workers)\n",
    "\n",
    "# Validation set so we can keep track of approximated FID score while training\n",
    "validation_loader = torch.utils.data.DataLoader(val_dataset,\n",
    "                                            batch_size=batch_size,\n",
    "                                            shuffle=False, num_workers=num_workers)\n",
    "    "
   ]
  },
  {
   "cell_type": "markdown",
   "id": "3cb46ce7-ff79-43f0-a03c-412978806bdb",
   "metadata": {},
   "source": [
    "# Ny block: Trækker 5000 CIFAR10 billeder til at beregne training FID"
   ]
  },
  {
   "cell_type": "code",
   "execution_count": 3,
   "id": "301580f7-7363-43aa-8e7b-47b21b8d85f1",
   "metadata": {},
   "outputs": [
    {
     "name": "stdout",
     "output_type": "stream",
     "text": [
      "Files already downloaded and verified\n"
     ]
    }
   ],
   "source": [
    "train_FID_dataset = datasets.CIFAR10('./CIFAR_data2',\n",
    "                               download=True,\n",
    "                               train=True,\n",
    "                               transform=transform_valid_test)\n",
    "\n",
    "train_for_FID, _ = random_split(train_FID_dataset, [5000, 45000])\n",
    "\n",
    "train_for_FID_loader = torch.utils.data.DataLoader(train_for_FID, batch_size=batch_size, shuffle=False, num_workers=num_workers)\n"
   ]
  },
  {
   "cell_type": "code",
   "execution_count": 4,
   "id": "d5630601-e376-4f9d-a13b-cefb9d3dcea1",
   "metadata": {},
   "outputs": [],
   "source": [
    "# COSINE SCHEDULE\n",
    "\n",
    "def f(t, s=torch.tensor([0.008]), T=torch.tensor([1000])):\n",
    "    return (torch.cos((t / T + s) / (1 + s) * (torch.pi / 2)).pow(2)).clamp(max=0.99999)\n",
    "\n",
    "T = 1000\n",
    "ts = torch.arange(T)\n",
    "alpha_bar = torch.tensor([(f(t)/f(torch.tensor([0]))).clamp(max=0.99999) for t in ts]) \n",
    "beta = torch.tensor([1 - alpha_bar[t]/(alpha_bar[t-1]) if t > 0 else torch.tensor([0]) for t in ts])\n",
    "alpha = 1 - beta\n",
    "alpha = alpha.view((1000, 1, 1, 1)).to(device)\n",
    "beta = beta.view((1000, 1, 1, 1)).to(device)\n",
    "alpha_bar = alpha_bar.view((1000, 1, 1, 1)).to(device)\n",
    "\n",
    "\n",
    "# # Sets up alpha_bar for training and test so alpha_bar_t = alpha_bar[t]\n",
    "# # LINEAR SCHEDULE\n",
    "# T = 1000\n",
    "# beta_start, beta_end = [1e-4, 2e-02]\n",
    "# beta = torch.linspace(beta_start, beta_end, T)\n",
    "# alpha = 1-beta\n",
    "# alpha_bar = alpha.clone()\n",
    "# for e in range(T-1):\n",
    "#     alpha_bar[e+1] *= alpha_bar[e]\n",
    "\n",
    "# alpha = alpha.view((1000, 1, 1, 1)).to(device)\n",
    "# beta = beta.view((1000, 1, 1, 1)).to(device)\n",
    "# alpha_bar = alpha_bar.view((1000, 1, 1, 1)).to(device)"
   ]
  },
  {
   "cell_type": "markdown",
   "id": "c42fe879-ee13-4434-9a0d-de015ddd4c2f",
   "metadata": {},
   "source": [
    "## Model"
   ]
  },
  {
   "cell_type": "code",
   "execution_count": 5,
   "id": "2624c48c",
   "metadata": {},
   "outputs": [],
   "source": [
    "import math\n",
    "class SinusoidalEmbedding(nn.Module):\n",
    "    def __init__(self, embedding_dim):\n",
    "        super(SinusoidalEmbedding, self).__init__()\n",
    "        self.embedding_dim = embedding_dim\n",
    "\n",
    "    def forward(self, t):\n",
    "        half_dim = self.embedding_dim // 2\n",
    "        freqs = torch.exp(\n",
    "            -torch.arange(half_dim, dtype=torch.float32) * math.log(10000) / half_dim\n",
    "        ).to(t.device)\n",
    "        angles = t[:, None] * freqs[None, :]\n",
    "        return torch.cat([angles.sin(), angles.cos()], dim=-1)"
   ]
  },
  {
   "cell_type": "code",
   "execution_count": 6,
   "id": "c671dbab-ffe9-4fe5-841a-80042e7593b1",
   "metadata": {},
   "outputs": [],
   "source": [
    "class UNET(torch.nn.Module):\n",
    "    def __init__(self):\n",
    "        super(UNET, self).__init__()\n",
    "        self.channels = [3,32, 64, 128, 256, 512]\n",
    "        \n",
    "        self.convs = nn.ModuleList([\n",
    "            nn.Sequential(\n",
    "                nn.Conv2d(self.channels[0], self.channels[1], kernel_size=3, padding=1),  # (batchsize, 32, 32, 32)\n",
    "                nn.GroupNorm(4, self.channels[1]),\n",
    "                nn.ReLU(),\n",
    "                # nn.Dropout2d(0.1)\n",
    "            ),\n",
    "            nn.Sequential(\n",
    "                nn.MaxPool2d(2),  # (batchsize, 32, 16, 16)\n",
    "                nn.Conv2d(self.channels[1], self.channels[2], kernel_size=3, padding=1),  # (batchsize, 64, 16, 16)\n",
    "                nn.GroupNorm(4, self.channels[2]),\n",
    "                nn.ReLU(),\n",
    "                # nn.Dropout2d(0.1)\n",
    "            ),\n",
    "            nn.Sequential(\n",
    "                nn.MaxPool2d(2),  # (batchsize, 64, 7, 7)\n",
    "                nn.Conv2d(self.channels[2], self.channels[3], kernel_size=3, padding=1),  # (batchsize, 128, 8, 8)\n",
    "                nn.GroupNorm(8, self.channels[3]),\n",
    "                nn.ReLU(),\n",
    "                # nn.Dropout2d(0.1)\n",
    "            ),\n",
    "            nn.Sequential(\n",
    "                nn.MaxPool2d(2),  # (batchsize, 128, 4, 4)\n",
    "                nn.Conv2d(self.channels[3], self.channels[4], kernel_size=3, padding=1),  # (batchsize, 256, 4, 4)\n",
    "                nn.GroupNorm(8, self.channels[4]),\n",
    "                nn.ReLU(),\n",
    "                nn.Dropout2d(0.2)\n",
    "            ),\n",
    "            nn.Sequential(\n",
    "                nn.MaxPool2d(2),  # (batchsize, 256, 2, 2)\n",
    "                nn.Conv2d(self.channels[4], self.channels[5], kernel_size=3, padding=1),  # (batchsize, 512, 2, 2)\n",
    "                nn.GroupNorm(8, self.channels[5]),\n",
    "                nn.ReLU(),\n",
    "                nn.Dropout2d(0.2)\n",
    "            )\n",
    "        ])\n",
    "\n",
    "        self.tconvs = nn.ModuleList([\n",
    "            nn.Sequential(\n",
    "                nn.ConvTranspose2d(self.channels[5], self.channels[4], kernel_size=3,\n",
    "                                      stride=2, padding=1, output_padding=1),  # (batchsize, 256, 4, 4)\n",
    "                nn.GroupNorm(8, self.channels[4]),\n",
    "                nn.ReLU(),\n",
    "                nn.Dropout2d(0.2)\n",
    "            ),\n",
    "            nn.Sequential(\n",
    "                nn.ConvTranspose2d(self.channels[4]*2, self.channels[3], kernel_size=3, \n",
    "                                   stride=2, padding=1, output_padding=1),   # (batchsize, 128, 8, 8)\n",
    "                nn.GroupNorm(8, self.channels[3]),\n",
    "                nn.ReLU(),\n",
    "                nn.Dropout2d(0.2)\n",
    "            ),\n",
    "            nn.Sequential(\n",
    "                nn.ConvTranspose2d(self.channels[3]*2, self.channels[2], kernel_size=3,\n",
    "                                   stride=2, padding=1, output_padding=1),   # (batchsize, 64, 16, 16)\n",
    "                nn.GroupNorm(8, self.channels[2]),\n",
    "                nn.ReLU(),\n",
    "                # nn.Dropout2d(0.1)\n",
    "            ),\n",
    "            nn.Sequential(\n",
    "                nn.ConvTranspose2d(self.channels[2]*2, self.channels[1], kernel_size=3, \n",
    "                                   stride=2, padding=1, output_padding=1),   # (batchsize, 32, 32, 32)\n",
    "                nn.GroupNorm(4, self.channels[1]),\n",
    "                nn.ReLU(),\n",
    "                # nn.Dropout2d(0.1)\n",
    "            ),\n",
    "            nn.Sequential(\n",
    "                nn.Conv2d(self.channels[1]*2, self.channels[1], kernel_size=3, padding=1),  # (batchsize, 32, 32, 32)\n",
    "                nn.GroupNorm(4, self.channels[1]),\n",
    "                nn.ReLU(),\n",
    "                # nn.Dropout2d(0.1),\n",
    "                nn.Conv2d(self.channels[1], self.channels[0], kernel_size=1)  # (batchsize, 3, 32, 32)\n",
    "            )      \n",
    "        ])\n",
    "        \n",
    "        self.time_layers = nn.ModuleList([\n",
    "                nn.Linear(128, self.channels[i]) for i in range(len(self.channels))\n",
    "        ])\n",
    "\n",
    "\n",
    "    def forward(self, x, t_emb):\n",
    "        signal = x\n",
    "        signals = []\n",
    "        for i, conv in enumerate(self.convs):\n",
    "            # print(f\"signal shape: {signal.shape}\")\n",
    "            t_emb_processed = self.time_layers[i](t_emb).view(-1, self.channels[i], 1, 1)\n",
    "            signal= t_emb_processed+signal\n",
    "            signal = conv(signal)\n",
    "            if i < len(self.convs)-1:\n",
    "                signals.append(signal)\n",
    "        \n",
    "        for i, tconv in enumerate(self.tconvs):\n",
    "            # print(f\"signal shape: {signal.shape}\")\n",
    "            # print(f\"signals[-{i}] shape: {signals[-i].shape}\")\n",
    "            # print()\n",
    "            t_emb_processed = self.time_layers[-(i + 1)](t_emb).view(-1, self.channels[-(i + 1)], 1, 1)\n",
    "            signal= signal+t_emb_processed\n",
    "            if i == 0:\n",
    "                signal = tconv(signal)\n",
    "            else:\n",
    "                signal = torch.cat((signal, signals[-i]), dim=-3)\n",
    "                signal = tconv(signal)\n",
    "\n",
    "        return signal\n",
    "\n"
   ]
  },
  {
   "cell_type": "markdown",
   "id": "9f04a5df-da69-407e-9285-90de11992cef",
   "metadata": {},
   "source": [
    "## Training loop"
   ]
  },
  {
   "cell_type": "code",
   "execution_count": 7,
   "id": "b8403ab0-aea6-492a-98b9-31ab55064c7d",
   "metadata": {},
   "outputs": [],
   "source": [
    "#from UNET import UNET\n",
    "epochs = 1707\n",
    "model = UNET()\n",
    "model.to(device)\n",
    "model.train()\n",
    "optimizer = torch.optim.Adam(model.parameters(), lr=1e-4)\n",
    "criterion = torch.nn.MSELoss(reduction=\"sum\")\n",
    "running_loss = 0\n",
    "\n",
    "# Initialize the linear time embedding layer\n",
    "time_embedding_dim = 128  # You can set this to any suitable size\n",
    "time_embedding_layer = SinusoidalEmbedding(time_embedding_dim).to(device)"
   ]
  },
  {
   "cell_type": "markdown",
   "id": "c45b5a0b-b53c-439b-8a09-d417af98bc74",
   "metadata": {},
   "source": [
    "# Træner og gemmer model 1, 100, 200, 300, 400, 500, 800, 1100, 1400 og 1707. Gemmer losses i losses.txt. Kan evt. ændres til at gemme færre modeller hvis det tager lang tid"
   ]
  },
  {
   "cell_type": "code",
   "execution_count": 8,
   "id": "8dc7e14a-63cd-4432-8f07-43fd00841fc8",
   "metadata": {},
   "outputs": [
    {
     "name": "stdout",
     "output_type": "stream",
     "text": [
      "(0, 100), loss: 14333280.953\n",
      "(0, 200), loss: 5707367.441\n"
     ]
    },
    {
     "name": "stderr",
     "output_type": "stream",
     "text": [
      "Exception ignored in: <function _MultiProcessingDataLoaderIter.__del__ at 0x10f7b00e0>\n",
      "Traceback (most recent call last):\n",
      "  File \"/Users/markus/miniconda3/lib/python3.11/site-packages/torch/utils/data/dataloader.py\", line 1479, in __del__\n",
      "    self._shutdown_workers()\n",
      "  File \"/Users/markus/miniconda3/lib/python3.11/site-packages/torch/utils/data/dataloader.py\", line 1443, in _shutdown_workers\n",
      "    w.join(timeout=_utils.MP_STATUS_CHECK_INTERVAL)\n",
      "  File \"/Users/markus/miniconda3/lib/python3.11/multiprocessing/process.py\", line 149, in join\n",
      "    res = self._popen.wait(timeout)\n",
      "          ^^^^^^^^^^^^^^^^^^^^^^^^^\n",
      "  File \"/Users/markus/miniconda3/lib/python3.11/multiprocessing/popen_fork.py\", line 40, in wait\n",
      "    if not wait([self.sentinel], timeout):\n",
      "           ^^^^^^^^^^^^^^^^^^^^^^^^^^^^^^\n",
      "  File \"/Users/markus/miniconda3/lib/python3.11/multiprocessing/connection.py\", line 947, in wait\n",
      "    ready = selector.select(timeout)\n",
      "            ^^^^^^^^^^^^^^^^^^^^^^^^\n",
      "  File \"/Users/markus/miniconda3/lib/python3.11/selectors.py\", line 415, in select\n",
      "    fd_event_list = self._selector.poll(timeout)\n",
      "                    ^^^^^^^^^^^^^^^^^^^^^^^^^^^^\n",
      "KeyboardInterrupt: \n"
     ]
    },
    {
     "ename": "KeyboardInterrupt",
     "evalue": "",
     "output_type": "error",
     "traceback": [
      "\u001b[0;31m---------------------------------------------------------------------------\u001b[0m",
      "\u001b[0;31mKeyboardInterrupt\u001b[0m                         Traceback (most recent call last)",
      "Cell \u001b[0;32mIn[8], line 16\u001b[0m\n\u001b[1;32m     13\u001b[0m loss\u001b[38;5;241m.\u001b[39mbackward()\n\u001b[1;32m     14\u001b[0m optimizer\u001b[38;5;241m.\u001b[39mstep()\n\u001b[0;32m---> 16\u001b[0m running_loss \u001b[38;5;241m+\u001b[39m\u001b[38;5;241m=\u001b[39m \u001b[43mloss\u001b[49m\u001b[38;5;241;43m.\u001b[39;49m\u001b[43mitem\u001b[49m\u001b[43m(\u001b[49m\u001b[43m)\u001b[49m\n\u001b[1;32m     18\u001b[0m \u001b[38;5;28;01mif\u001b[39;00m e \u001b[38;5;241m%\u001b[39m \u001b[38;5;241m100\u001b[39m \u001b[38;5;241m==\u001b[39m \u001b[38;5;241m99\u001b[39m:\n\u001b[1;32m     19\u001b[0m     \u001b[38;5;28mprint\u001b[39m(\u001b[38;5;124mf\u001b[39m\u001b[38;5;124m'\u001b[39m\u001b[38;5;132;01m{\u001b[39;00mepoch,\u001b[38;5;250m \u001b[39me\u001b[38;5;241m+\u001b[39m\u001b[38;5;241m1\u001b[39m\u001b[38;5;132;01m}\u001b[39;00m\u001b[38;5;124m, loss: \u001b[39m\u001b[38;5;132;01m{\u001b[39;00mrunning_loss\u001b[38;5;132;01m:\u001b[39;00m\u001b[38;5;124m.3f\u001b[39m\u001b[38;5;132;01m}\u001b[39;00m\u001b[38;5;124m'\u001b[39m)\n",
      "\u001b[0;31mKeyboardInterrupt\u001b[0m: "
     ]
    }
   ],
   "source": [
    "for epoch in range(epochs+1):\n",
    "    for e, data in enumerate(train_loader):\n",
    "        x0, _ = data\n",
    "        x0 = x0.to(device)\n",
    "        t = torch.randint(0, T, (batch_size,), device=device)\n",
    "        t_norm = t.float() / T\n",
    "        t_emb = time_embedding_layer(t_norm)  # Shape: [batch_size, embedding_dim]\n",
    "        eps = torch.randn_like(x0).to(device)\n",
    "        x_t = torch.sqrt(alpha_bar[t]) * x0 + torch.sqrt(1 - alpha_bar[t]) * eps\n",
    "        predicted_eps = model(x_t, t_emb)  # Pass the precomputed embedding to the model\n",
    "        loss = criterion(predicted_eps, eps)\n",
    "        optimizer.zero_grad()\n",
    "        loss.backward()\n",
    "        optimizer.step()\n",
    "        \n",
    "        running_loss += loss.item()\n",
    "        \n",
    "        if e % 100 == 99:\n",
    "            print(f'{epoch, e+1}, loss: {running_loss:.3f}')\n",
    "            with open(\"losses\", \"a\") as file:\n",
    "                file.write(f\"{running_loss:.3f}\\n\")\n",
    "            \n",
    "            running_loss = 0.0\n",
    "        \n",
    "    if epoch in [1, 100, 200, 300, 400, 500, 800, 1100, 1400]:\n",
    "        torch.save(model.state_dict(), f\"DDPM_final_linear_{epoch}.pth\")\n",
    "torch.save(model.state_dict(), f\"DDPM_final_linear_{epoch}.pth\")"
   ]
  },
  {
   "cell_type": "code",
   "execution_count": null,
   "id": "ad8315c4-019e-40b3-b075-216b2d7bad99",
   "metadata": {},
   "outputs": [],
   "source": []
  },
  {
   "cell_type": "markdown",
   "id": "d54a74a6-6786-43c8-9b7b-569eb01df2f2",
   "metadata": {},
   "source": [
    "# Sampling"
   ]
  },
  {
   "cell_type": "code",
   "execution_count": null,
   "id": "c0a774f9-279c-45dc-9aa0-df511f200960",
   "metadata": {},
   "outputs": [],
   "source": [
    "#model = UNET()\n",
    "#model.to(device)\n",
    "#model.load_state_dict(torch.load(\"DDPM_final_linear_300.pth\"))"
   ]
  },
  {
   "cell_type": "code",
   "execution_count": 9,
   "id": "53f69f28-7031-48bc-96d4-85b61ba8d524",
   "metadata": {},
   "outputs": [
    {
     "data": {
      "image/png": "[encoded data removed]",
      "text/plain": [
       "<Figure size 640x480 with 1 Axes>"
      ]
     },
     "metadata": {},
     "output_type": "display_data"
    }
   ],
   "source": [
    "model.eval()\n",
    "xt = torch.randn(1, 3, 32, 32).to(device)\n",
    "\n",
    "with torch.no_grad():\n",
    "    for t in torch.arange(T, 0, -1):\n",
    "        t = t.reshape(1).to(device)\n",
    "        t_norm = t.float() / T\n",
    "        \n",
    "        t_emb = time_embedding_layer(t_norm)\n",
    "\n",
    "        z = torch.randn(1, 3, 32, 32).to(device) if t > 1 else torch.zeros(1, 3, 32, 32).to(device)\n",
    "        \n",
    "        xt_new = 1 / torch.sqrt(alpha[t]) * (xt - (1 - alpha[t]) / torch.sqrt(1 - alpha_bar[t]) * model(xt, t_emb)) + torch.sqrt(beta[t]) * z\n",
    "        xt = xt_new.clamp(-1, 1)\n",
    "        \n",
    "im1 = xt[0]\n",
    "im1 = (im1+1)/2\n",
    "im1 = im1.permute(1, 2, 0)\n",
    "im1 = im1.cpu().detach().numpy()\n",
    "\n",
    "fig,ax = plt.subplots(1, 1, tight_layout=True)\n",
    "ax.imshow(im1)\n",
    "ax.set_title(\"Generated Image\")\n",
    "ax.axis(\"off\")\n",
    "plt.show()"
   ]
  },
  {
   "cell_type": "markdown",
   "id": "948e4619-6611-4ed0-b4d0-0de38910d97f",
   "metadata": {},
   "source": [
    "# Making test and valid set - commented out, don't touch again"
   ]
  },
  {
   "cell_type": "code",
   "execution_count": null,
   "id": "e9d9c3c6-83b5-436a-b1d9-0bbd38a0d5ca",
   "metadata": {},
   "outputs": [],
   "source": [
    "#print(\"Test set: \")\n",
    "#for i, (img, _) in tqdm(enumerate(test_loader)):\n",
    "#    for j in range(img.size(0)):\n",
    "#        save_image(img[j], os.path.join(test_dir, f\"{i * batchsize + j}.png\"))"
   ]
  },
  {
   "cell_type": "code",
   "execution_count": null,
   "id": "e6d34c29-cfe6-440c-9771-4163bea4ed17",
   "metadata": {},
   "outputs": [],
   "source": [
    "#print(\"Valid set: \")\n",
    "#for i, (img, _) in tqdm(enumerate(validation_loader)):\n",
    "#    for j in range(img.size(0)):\n",
    "#        save_image(img[j], os.path.join(valid_dir, f\"{i * batchsize + j}.png\"))"
   ]
  },
  {
   "cell_type": "code",
   "execution_count": null,
   "id": "e1e2290a-7bcc-4864-9b7d-c5c31b395774",
   "metadata": {},
   "outputs": [],
   "source": [
    "#print(\"Train set: \")\n",
    "#for i, (img, _) in tqdm(enumerate(train_for_FID_loader)):\n",
    "#    for j in range(img.size(0)):\n",
    "#        save_image(img[j], os.path.join(train_dir, f\"{i * batchsize + j}.png\"))"
   ]
  },
  {
   "cell_type": "markdown",
   "id": "cd7c74f5-fc34-486d-a1d6-b741a423d012",
   "metadata": {},
   "source": [
    "# Make samples from the models we have trained."
   ]
  },
  {
   "cell_type": "code",
   "execution_count": 10,
   "id": "a17985b3-1ce0-4bc0-9540-d355a9b0bd48",
   "metadata": {},
   "outputs": [
    {
     "name": "stdout",
     "output_type": "stream",
     "text": [
      "Starting generation set: \n"
     ]
    },
    {
     "data": {
      "application/vnd.jupyter.widget-view+json": {
       "model_id": "bc41740800094cad9f8f079caf5a521d",
       "version_major": 2,
       "version_minor": 0
      },
      "text/plain": [
       "  0%|          | 0/1000 [00:00<?, ?it/s]"
      ]
     },
     "metadata": {},
     "output_type": "display_data"
    },
    {
     "name": "stdout",
     "output_type": "stream",
     "text": [
      "torch.Size([3, 32, 32])\n"
     ]
    },
    {
     "ename": "NotImplementedError",
     "evalue": "The operator 'aten::_upsample_bilinear2d_aa.out' is not currently implemented for the MPS device. If you want this op to be added in priority during the prototype phase of this feature, please comment on https://github.com/pytorch/pytorch/issues/77764. As a temporary fix, you can set the environment variable `PYTORCH_ENABLE_MPS_FALLBACK=1` to use the CPU as a fallback for this op. WARNING: this will be slower than running natively on MPS.",
     "output_type": "error",
     "traceback": [
      "\u001b[0;31m---------------------------------------------------------------------------\u001b[0m",
      "\u001b[0;31mNotImplementedError\u001b[0m                       Traceback (most recent call last)",
      "Cell \u001b[0;32mIn[10], line 43\u001b[0m\n\u001b[1;32m     41\u001b[0m im \u001b[38;5;241m=\u001b[39m xt[\u001b[38;5;241m0\u001b[39m]\n\u001b[1;32m     42\u001b[0m \u001b[38;5;28mprint\u001b[39m(im\u001b[38;5;241m.\u001b[39mshape)\n\u001b[0;32m---> 43\u001b[0m im \u001b[38;5;241m=\u001b[39m \u001b[43mresize_transform\u001b[49m\u001b[43m(\u001b[49m\u001b[43mim\u001b[49m\u001b[43m)\u001b[49m\n\u001b[1;32m     44\u001b[0m im \u001b[38;5;241m=\u001b[39m (im \u001b[38;5;241m+\u001b[39m \u001b[38;5;241m1\u001b[39m) \u001b[38;5;241m/\u001b[39m \u001b[38;5;241m2\u001b[39m\n\u001b[1;32m     45\u001b[0m im \u001b[38;5;241m=\u001b[39m im\u001b[38;5;241m.\u001b[39mclamp(\u001b[38;5;241m0\u001b[39m, \u001b[38;5;241m1\u001b[39m)\n",
      "File \u001b[0;32m~/miniconda3/lib/python3.11/site-packages/torch/nn/modules/module.py:1511\u001b[0m, in \u001b[0;36mModule._wrapped_call_impl\u001b[0;34m(self, *args, **kwargs)\u001b[0m\n\u001b[1;32m   1509\u001b[0m     \u001b[38;5;28;01mreturn\u001b[39;00m \u001b[38;5;28mself\u001b[39m\u001b[38;5;241m.\u001b[39m_compiled_call_impl(\u001b[38;5;241m*\u001b[39margs, \u001b[38;5;241m*\u001b[39m\u001b[38;5;241m*\u001b[39mkwargs)  \u001b[38;5;66;03m# type: ignore[misc]\u001b[39;00m\n\u001b[1;32m   1510\u001b[0m \u001b[38;5;28;01melse\u001b[39;00m:\n\u001b[0;32m-> 1511\u001b[0m     \u001b[38;5;28;01mreturn\u001b[39;00m \u001b[38;5;28;43mself\u001b[39;49m\u001b[38;5;241;43m.\u001b[39;49m\u001b[43m_call_impl\u001b[49m\u001b[43m(\u001b[49m\u001b[38;5;241;43m*\u001b[39;49m\u001b[43margs\u001b[49m\u001b[43m,\u001b[49m\u001b[43m \u001b[49m\u001b[38;5;241;43m*\u001b[39;49m\u001b[38;5;241;43m*\u001b[39;49m\u001b[43mkwargs\u001b[49m\u001b[43m)\u001b[49m\n",
      "File \u001b[0;32m~/miniconda3/lib/python3.11/site-packages/torch/nn/modules/module.py:1520\u001b[0m, in \u001b[0;36mModule._call_impl\u001b[0;34m(self, *args, **kwargs)\u001b[0m\n\u001b[1;32m   1515\u001b[0m \u001b[38;5;66;03m# If we don't have any hooks, we want to skip the rest of the logic in\u001b[39;00m\n\u001b[1;32m   1516\u001b[0m \u001b[38;5;66;03m# this function, and just call forward.\u001b[39;00m\n\u001b[1;32m   1517\u001b[0m \u001b[38;5;28;01mif\u001b[39;00m \u001b[38;5;129;01mnot\u001b[39;00m (\u001b[38;5;28mself\u001b[39m\u001b[38;5;241m.\u001b[39m_backward_hooks \u001b[38;5;129;01mor\u001b[39;00m \u001b[38;5;28mself\u001b[39m\u001b[38;5;241m.\u001b[39m_backward_pre_hooks \u001b[38;5;129;01mor\u001b[39;00m \u001b[38;5;28mself\u001b[39m\u001b[38;5;241m.\u001b[39m_forward_hooks \u001b[38;5;129;01mor\u001b[39;00m \u001b[38;5;28mself\u001b[39m\u001b[38;5;241m.\u001b[39m_forward_pre_hooks\n\u001b[1;32m   1518\u001b[0m         \u001b[38;5;129;01mor\u001b[39;00m _global_backward_pre_hooks \u001b[38;5;129;01mor\u001b[39;00m _global_backward_hooks\n\u001b[1;32m   1519\u001b[0m         \u001b[38;5;129;01mor\u001b[39;00m _global_forward_hooks \u001b[38;5;129;01mor\u001b[39;00m _global_forward_pre_hooks):\n\u001b[0;32m-> 1520\u001b[0m     \u001b[38;5;28;01mreturn\u001b[39;00m \u001b[43mforward_call\u001b[49m\u001b[43m(\u001b[49m\u001b[38;5;241;43m*\u001b[39;49m\u001b[43margs\u001b[49m\u001b[43m,\u001b[49m\u001b[43m \u001b[49m\u001b[38;5;241;43m*\u001b[39;49m\u001b[38;5;241;43m*\u001b[39;49m\u001b[43mkwargs\u001b[49m\u001b[43m)\u001b[49m\n\u001b[1;32m   1522\u001b[0m \u001b[38;5;28;01mtry\u001b[39;00m:\n\u001b[1;32m   1523\u001b[0m     result \u001b[38;5;241m=\u001b[39m \u001b[38;5;28;01mNone\u001b[39;00m\n",
      "File \u001b[0;32m~/miniconda3/lib/python3.11/site-packages/torchvision/transforms/transforms.py:354\u001b[0m, in \u001b[0;36mResize.forward\u001b[0;34m(self, img)\u001b[0m\n\u001b[1;32m    346\u001b[0m \u001b[38;5;28;01mdef\u001b[39;00m \u001b[38;5;21mforward\u001b[39m(\u001b[38;5;28mself\u001b[39m, img):\n\u001b[1;32m    347\u001b[0m \u001b[38;5;250m    \u001b[39m\u001b[38;5;124;03m\"\"\"\u001b[39;00m\n\u001b[1;32m    348\u001b[0m \u001b[38;5;124;03m    Args:\u001b[39;00m\n\u001b[1;32m    349\u001b[0m \u001b[38;5;124;03m        img (PIL Image or Tensor): Image to be scaled.\u001b[39;00m\n\u001b[0;32m   (...)\u001b[0m\n\u001b[1;32m    352\u001b[0m \u001b[38;5;124;03m        PIL Image or Tensor: Rescaled image.\u001b[39;00m\n\u001b[1;32m    353\u001b[0m \u001b[38;5;124;03m    \"\"\"\u001b[39;00m\n\u001b[0;32m--> 354\u001b[0m     \u001b[38;5;28;01mreturn\u001b[39;00m \u001b[43mF\u001b[49m\u001b[38;5;241;43m.\u001b[39;49m\u001b[43mresize\u001b[49m\u001b[43m(\u001b[49m\u001b[43mimg\u001b[49m\u001b[43m,\u001b[49m\u001b[43m \u001b[49m\u001b[38;5;28;43mself\u001b[39;49m\u001b[38;5;241;43m.\u001b[39;49m\u001b[43msize\u001b[49m\u001b[43m,\u001b[49m\u001b[43m \u001b[49m\u001b[38;5;28;43mself\u001b[39;49m\u001b[38;5;241;43m.\u001b[39;49m\u001b[43minterpolation\u001b[49m\u001b[43m,\u001b[49m\u001b[43m \u001b[49m\u001b[38;5;28;43mself\u001b[39;49m\u001b[38;5;241;43m.\u001b[39;49m\u001b[43mmax_size\u001b[49m\u001b[43m,\u001b[49m\u001b[43m \u001b[49m\u001b[38;5;28;43mself\u001b[39;49m\u001b[38;5;241;43m.\u001b[39;49m\u001b[43mantialias\u001b[49m\u001b[43m)\u001b[49m\n",
      "File \u001b[0;32m~/miniconda3/lib/python3.11/site-packages/torchvision/transforms/functional.py:469\u001b[0m, in \u001b[0;36mresize\u001b[0;34m(img, size, interpolation, max_size, antialias)\u001b[0m\n\u001b[1;32m    466\u001b[0m     pil_interpolation \u001b[38;5;241m=\u001b[39m pil_modes_mapping[interpolation]\n\u001b[1;32m    467\u001b[0m     \u001b[38;5;28;01mreturn\u001b[39;00m F_pil\u001b[38;5;241m.\u001b[39mresize(img, size\u001b[38;5;241m=\u001b[39moutput_size, interpolation\u001b[38;5;241m=\u001b[39mpil_interpolation)\n\u001b[0;32m--> 469\u001b[0m \u001b[38;5;28;01mreturn\u001b[39;00m \u001b[43mF_t\u001b[49m\u001b[38;5;241;43m.\u001b[39;49m\u001b[43mresize\u001b[49m\u001b[43m(\u001b[49m\u001b[43mimg\u001b[49m\u001b[43m,\u001b[49m\u001b[43m \u001b[49m\u001b[43msize\u001b[49m\u001b[38;5;241;43m=\u001b[39;49m\u001b[43moutput_size\u001b[49m\u001b[43m,\u001b[49m\u001b[43m \u001b[49m\u001b[43minterpolation\u001b[49m\u001b[38;5;241;43m=\u001b[39;49m\u001b[43minterpolation\u001b[49m\u001b[38;5;241;43m.\u001b[39;49m\u001b[43mvalue\u001b[49m\u001b[43m,\u001b[49m\u001b[43m \u001b[49m\u001b[43mantialias\u001b[49m\u001b[38;5;241;43m=\u001b[39;49m\u001b[43mantialias\u001b[49m\u001b[43m)\u001b[49m\n",
      "File \u001b[0;32m~/miniconda3/lib/python3.11/site-packages/torchvision/transforms/_functional_tensor.py:465\u001b[0m, in \u001b[0;36mresize\u001b[0;34m(img, size, interpolation, antialias)\u001b[0m\n\u001b[1;32m    462\u001b[0m \u001b[38;5;66;03m# Define align_corners to avoid warnings\u001b[39;00m\n\u001b[1;32m    463\u001b[0m align_corners \u001b[38;5;241m=\u001b[39m \u001b[38;5;28;01mFalse\u001b[39;00m \u001b[38;5;28;01mif\u001b[39;00m interpolation \u001b[38;5;129;01min\u001b[39;00m [\u001b[38;5;124m\"\u001b[39m\u001b[38;5;124mbilinear\u001b[39m\u001b[38;5;124m\"\u001b[39m, \u001b[38;5;124m\"\u001b[39m\u001b[38;5;124mbicubic\u001b[39m\u001b[38;5;124m\"\u001b[39m] \u001b[38;5;28;01melse\u001b[39;00m \u001b[38;5;28;01mNone\u001b[39;00m\n\u001b[0;32m--> 465\u001b[0m img \u001b[38;5;241m=\u001b[39m \u001b[43minterpolate\u001b[49m\u001b[43m(\u001b[49m\u001b[43mimg\u001b[49m\u001b[43m,\u001b[49m\u001b[43m \u001b[49m\u001b[43msize\u001b[49m\u001b[38;5;241;43m=\u001b[39;49m\u001b[43msize\u001b[49m\u001b[43m,\u001b[49m\u001b[43m \u001b[49m\u001b[43mmode\u001b[49m\u001b[38;5;241;43m=\u001b[39;49m\u001b[43minterpolation\u001b[49m\u001b[43m,\u001b[49m\u001b[43m \u001b[49m\u001b[43malign_corners\u001b[49m\u001b[38;5;241;43m=\u001b[39;49m\u001b[43malign_corners\u001b[49m\u001b[43m,\u001b[49m\u001b[43m \u001b[49m\u001b[43mantialias\u001b[49m\u001b[38;5;241;43m=\u001b[39;49m\u001b[43mantialias\u001b[49m\u001b[43m)\u001b[49m\n\u001b[1;32m    467\u001b[0m \u001b[38;5;28;01mif\u001b[39;00m interpolation \u001b[38;5;241m==\u001b[39m \u001b[38;5;124m\"\u001b[39m\u001b[38;5;124mbicubic\u001b[39m\u001b[38;5;124m\"\u001b[39m \u001b[38;5;129;01mand\u001b[39;00m out_dtype \u001b[38;5;241m==\u001b[39m torch\u001b[38;5;241m.\u001b[39muint8:\n\u001b[1;32m    468\u001b[0m     img \u001b[38;5;241m=\u001b[39m img\u001b[38;5;241m.\u001b[39mclamp(\u001b[38;5;28mmin\u001b[39m\u001b[38;5;241m=\u001b[39m\u001b[38;5;241m0\u001b[39m, \u001b[38;5;28mmax\u001b[39m\u001b[38;5;241m=\u001b[39m\u001b[38;5;241m255\u001b[39m)\n",
      "File \u001b[0;32m~/miniconda3/lib/python3.11/site-packages/torch/nn/functional.py:4028\u001b[0m, in \u001b[0;36minterpolate\u001b[0;34m(input, size, scale_factor, mode, align_corners, recompute_scale_factor, antialias)\u001b[0m\n\u001b[1;32m   4026\u001b[0m \u001b[38;5;28;01massert\u001b[39;00m align_corners \u001b[38;5;129;01mis\u001b[39;00m \u001b[38;5;129;01mnot\u001b[39;00m \u001b[38;5;28;01mNone\u001b[39;00m\n\u001b[1;32m   4027\u001b[0m \u001b[38;5;28;01mif\u001b[39;00m antialias:\n\u001b[0;32m-> 4028\u001b[0m     \u001b[38;5;28;01mreturn\u001b[39;00m \u001b[43mtorch\u001b[49m\u001b[38;5;241;43m.\u001b[39;49m\u001b[43m_C\u001b[49m\u001b[38;5;241;43m.\u001b[39;49m\u001b[43m_nn\u001b[49m\u001b[38;5;241;43m.\u001b[39;49m\u001b[43m_upsample_bilinear2d_aa\u001b[49m\u001b[43m(\u001b[49m\u001b[38;5;28;43minput\u001b[39;49m\u001b[43m,\u001b[49m\u001b[43m \u001b[49m\u001b[43moutput_size\u001b[49m\u001b[43m,\u001b[49m\u001b[43m \u001b[49m\u001b[43malign_corners\u001b[49m\u001b[43m,\u001b[49m\u001b[43m \u001b[49m\u001b[43mscale_factors\u001b[49m\u001b[43m)\u001b[49m\n\u001b[1;32m   4029\u001b[0m \u001b[38;5;66;03m# Two levels are necessary to prevent TorchScript from touching\u001b[39;00m\n\u001b[1;32m   4030\u001b[0m \u001b[38;5;66;03m# are_deterministic_algorithms_enabled.\u001b[39;00m\n\u001b[1;32m   4031\u001b[0m \u001b[38;5;28;01mif\u001b[39;00m \u001b[38;5;129;01mnot\u001b[39;00m torch\u001b[38;5;241m.\u001b[39mjit\u001b[38;5;241m.\u001b[39mis_scripting():\n",
      "\u001b[0;31mNotImplementedError\u001b[0m: The operator 'aten::_upsample_bilinear2d_aa.out' is not currently implemented for the MPS device. If you want this op to be added in priority during the prototype phase of this feature, please comment on https://github.com/pytorch/pytorch/issues/77764. As a temporary fix, you can set the environment variable `PYTORCH_ENABLE_MPS_FALLBACK=1` to use the CPU as a fallback for this op. WARNING: this will be slower than running natively on MPS."
     ]
    }
   ],
   "source": [
    "import os\n",
    "import torch\n",
    "from torchvision import datasets, transforms\n",
    "from torchvision.utils import save_image\n",
    "from pytorch_fid import fid_score\n",
    "from tqdm.auto import tqdm\n",
    "\n",
    "valid_dir = './valid_images'\n",
    "test_dir = './test_images'\n",
    "train_dir = './train_images'\n",
    "gen_dir = './gen_images'\n",
    "os.makedirs(valid_dir, exist_ok=True)\n",
    "os.makedirs(test_dir, exist_ok=True)\n",
    "os.makedirs(train_dir, exist_ok=True)\n",
    "os.makedirs(gen_dir, exist_ok=True)\n",
    "#for epoch in [800, 1100, 1400, 1707]:\n",
    "#    os.makedirs(f\"./gen_images/{epoch}\", exist_ok=True)\n",
    "\n",
    "resize_transform = transforms.Resize((299, 299))\n",
    "with torch.inference_mode():\n",
    "    for epoch in [1, 100, 200, 300, 400, 500, 800, 1100, 1400, 1707]:\n",
    "        model = UNET()\n",
    "        model.to(device)\n",
    "        # model.load_state_dict(torch.load(f\"DDPM_final_linear_{epoch}.pth\"))\n",
    "        model.eval()\n",
    "        \n",
    "        print(\"Starting generation set: \")\n",
    "        for i in tqdm(range(1000)):\n",
    "            xt = torch.randn(batch_size, 3, 32, 32).to(device)\n",
    "            \n",
    "            for t in torch.arange(T, 0, -1):\n",
    "                t = t.reshape(1).to(device)\n",
    "                t_norm = t.float() / T\n",
    "                \n",
    "                t_emb = time_embedding_layer(t_norm)\n",
    "\n",
    "                z = torch.randn(1, 3, 32, 32).to(device) if t > 0 else torch.zeros(1, 3, 32, 32).to(device)\n",
    "                \n",
    "                xt_new = 1 / torch.sqrt(alpha[t]) * (xt - (1 - alpha[t]) / torch.sqrt(1 - alpha_bar[t]) * model(xt, t_emb)) + torch.sqrt(beta[t]) * z\n",
    "                xt = xt_new.clamp(-1, 1)\n",
    "            im = xt[0]\n",
    "            print(im.shape)\n",
    "            im = resize_transform(im)\n",
    "            im = (im + 1) / 2\n",
    "            im = im.clamp(0, 1)\n",
    "            print(im.shape)\n",
    "            print(\"Saving generated image: \")\n",
    "            save_image(im, os.path.join(f\"./gen_images/{epoch}\", f\"{i}.png\"))\n",
    "            print(epoch, i)"
   ]
  },
  {
   "cell_type": "markdown",
   "id": "1c189f7c-ed52-48ea-a00e-f76a75938492",
   "metadata": {},
   "source": [
    "# Calculate FID scores. 1 validation score per model until the last, where it calculates test and train FID score."
   ]
  },
  {
   "cell_type": "code",
   "execution_count": null,
   "id": "ab4b6a0e-38e1-492f-a26d-b630fe4b0880",
   "metadata": {},
   "outputs": [],
   "source": [
    "validation_scores = []\n",
    "test_score = []\n",
    "train_score = []\n",
    "with torch.inference_mode():\n",
    "    for epoch in [1, 100, 200, 300, 400, 500, 800, 1100, 1400, 1707]:\n",
    "            model = UNET()\n",
    "            model.to(device)\n",
    "            model.load_state_dict(torch.load(f\"DDPM_final_linear_{epoch}.pth\"))\n",
    "            model.eval()\n",
    "            if epoch != 1707:\n",
    "                fid_value = fid_score.calculate_fid_given_paths(\n",
    "                    ['./valid_images', f\"./gen_images/{epoch}\"], \n",
    "                    batch_size=batch_size,\n",
    "                    device=device,\n",
    "                    dims=2048\n",
    "                )\n",
    "                validation_scores.append(fid_value)\n",
    "            else:\n",
    "                fid_value = fid_score.calculate_fid_given_paths(\n",
    "                    ['./test_images', f\"./gen_images/{epoch}\"], \n",
    "                    batch_size=batch_size,\n",
    "                    device=device,\n",
    "                    dims=2048\n",
    "                )\n",
    "                test_score.append(fid_value)\n",
    "                fid_train_value = fid_score.calculate_fid_given_paths(\n",
    "                    ['./train_images', f\"./gen_images/{epoch}\"], \n",
    "                    batch_size=batch_size,\n",
    "                    device=device,\n",
    "                    dims=2048\n",
    "                )\n",
    "                train_score.append(fid_train_value)\n",
    "            print(f\"epoch and valid FID Score: {epoch}, {validation_scores[-1]}\")\n",
    "            if epoch == 1707:\n",
    "                print(f\"epoch and test set FID Score: {epoch}, {test_score[0]}\")\n",
    "                print(f\"epoch and train set FID Score: {epoch}, {train_score[0]}\")"
   ]
  },
  {
   "cell_type": "markdown",
   "id": "0c35a2db-d4e0-4fee-8559-9f55b0b2d89c",
   "metadata": {},
   "source": [
    "# Get one training loss per epoch"
   ]
  },
  {
   "cell_type": "code",
   "execution_count": null,
   "id": "7790569a-6d2a-43e8-a62c-315b8a288512",
   "metadata": {},
   "outputs": [],
   "source": [
    "with open(\"losses.txt\", \"r\") as file:\n",
    "    lines = file.readlines()\n",
    "    lines = [float(line.strip()) / 10 for line in lines]\n",
    "    indices = np.linspace(0, len(lines) - 1, 1707).astype(int)\n",
    "    all_epochs_loss = [lines[i] for i in indices]"
   ]
  },
  {
   "cell_type": "markdown",
   "id": "3fa94f5b-96f6-4119-adf1-135ac77751a8",
   "metadata": {},
   "source": [
    "# Plot everything, remember to change title"
   ]
  },
  {
   "cell_type": "code",
   "execution_count": null,
   "id": "b5d6346c-55e6-4b41-8391-5dd3e274976d",
   "metadata": {},
   "outputs": [],
   "source": [
    "#valid_fid_scores = [349.9, 141.6, 150.1, 137.1, 125.4, 124.3, 121.4, 123.7, 117.3]\n",
    "#test_fid_score = [107.5]\n",
    "#train_fid_score = [107.8]\n",
    "\n",
    "epochs_valid_fid = [1, 100, 200, 300, 400, 500, 800, 1100, 1400]\n",
    "epochs_loss = list(range(1707+1))\n",
    "test_fid_score = test_score\n",
    "train_fid_score = train_score\n",
    "fig, ax1 = plt.subplots()\n",
    "plt.suptitle(\"CIFAR10 DDPM\")\n",
    "plt.title(\"Conc. time-embedding and linear noise schedule\")\n",
    "ax1.plot(epochs_loss, np.log(np.array(all_epochs_loss)), label=\"Log-loss\")\n",
    "ax1.set_xlabel('Epoch')\n",
    "ax1.set_ylabel('Log-loss', color='darkblue')\n",
    "ax1.tick_params(axis='y', labelcolor='darkblue')\n",
    "ax1.legend(loc=\"upper left\", bbox_to_anchor=(0.757, 0.85))\n",
    "ax2 = ax1.twinx()\n",
    "ax2.scatter(epochs_valid_fid, validation_scores, color=\"red\", marker=\".\", label=\"Validation FID\")\n",
    "ax2.set_ylabel('FID', color='darkred')\n",
    "ax2.tick_params(axis='y', labelcolor='darkred')\n",
    "ax2.scatter([1707], test_fid_score, label=\"Test and train FID\", marker=\"*\", color=\"orange\")\n",
    "ax2.legend()\n"
   ]
  },
  {
   "cell_type": "markdown",
   "id": "a2205ba8-08c7-4112-9109-4edde50f3665",
   "metadata": {},
   "source": [
    "# Overfit to one batch"
   ]
  },
  {
   "cell_type": "code",
   "execution_count": null,
   "id": "2af12741-2e35-47c5-8a80-7c3ef41bacdd",
   "metadata": {},
   "outputs": [],
   "source": [
    "#from UNET import UNET\n",
    "\n",
    "model = UNET().to(device)\n",
    "# Initialize the linear time embedding layer\n",
    "time_embedding_dim = 128  # You can set this to any suitable size\n",
    "time_embedding_layer = SinusoidalEmbedding(time_embedding_dim).to(device)\n",
    "\n",
    "# Get a single image from the batch\n",
    "single_batch, _ = next(iter(train_loader))\n",
    "single_batch = single_batch[0].unsqueeze(0).to(device)\n",
    "single_batchs = single_batch.repeat(1, 1, 1, 1)\n",
    "# Set the model to training mode\n",
    "model.train()\n",
    "\n",
    "# Define the optimizer and loss function\n",
    "optimizer = torch.optim.Adam(model.parameters(), lr=1e-4)\n",
    "criterion = torch.nn.MSELoss(reduction=\"sum\")\n",
    "\n",
    "# Training loop to overfit one batch\n",
    "epochs = 5000\n",
    "for epoch in range(epochs):\n",
    "    t = torch.randint(0, T, (1,), device=device)\n",
    "    t_norm = t.float() / T # Normalize the time to [0, 1]\n",
    "    t_emb = time_embedding_layer(t_norm)  # Shape: [1, embedding_dim]\n",
    "    eps = torch.randn_like(single_batchs).to(device)\n",
    "    x_t = torch.sqrt(alpha_bar[t]) * single_batchs + torch.sqrt(1 - alpha_bar[t]) * eps\n",
    "    predicted_eps = model(x_t, t_emb)  # Pass the precomputed embedding to the model\n",
    "    loss = criterion(predicted_eps, eps)\n",
    "    optimizer.zero_grad()\n",
    "    loss.backward()\n",
    "    optimizer.step()"
   ]
  },
  {
   "cell_type": "code",
   "execution_count": null,
   "id": "c708ad20-2fa1-4c85-a9a5-b65a4506f61f",
   "metadata": {},
   "outputs": [],
   "source": [
    "model.eval()\n",
    "xt = torch.randn(1, 3, 32, 32).to(device)\n",
    "\n",
    "with torch.no_grad():\n",
    "    for t in torch.arange(T, 0, -1):\n",
    "        t = t.reshape(1).to(device)\n",
    "        t_norm = t.float() / T\n",
    "        \n",
    "        t_emb = time_embedding_layer(t_norm)\n",
    "\n",
    "        z = torch.randn(1, 3, 32, 32).to(device) if t > 1 else torch.zeros(1, 3, 32, 32).to(device)\n",
    "        \n",
    "        xt_new = 1 / torch.sqrt(alpha[t]) * (xt - (1 - alpha[t]) / torch.sqrt(1 - alpha_bar[t]) * model(xt, t_emb)) + torch.sqrt(beta[t]) * z\n",
    "        xt_new = xt_new.clamp(-1, 1)\n",
    "        xt = xt_new\n",
    "        \n",
    "im1 = xt[0]\n",
    "im1 = (im1+1)/2\n",
    "im1 = im1.permute(1, 2, 0)\n",
    "im1 = im1.cpu().detach().numpy()\n",
    "\n",
    "im2 = single_batch[0]\n",
    "im2 = (im2+1)/2\n",
    "im2 = im2.permute(1, 2, 0)\n",
    "im2 = im2.cpu().detach().numpy()\n",
    "\n",
    "fig,axs = plt.subplots(1, 2, tight_layout=True)\n",
    "axs[0].imshow(im1)\n",
    "axs[0].set_title(\"Generated Image\")\n",
    "axs[0].axis(\"off\")\n",
    "axs[1].imshow(im2)\n",
    "axs[1].set_title(\"Original Image\")\n",
    "axs[1].axis(\"off\")\n",
    "plt.show()"
   ]
  }
 ],
 "metadata": {
  "kernelspec": {
   "display_name": "base",
   "language": "python",
   "name": "python3"
  },
  "language_info": {
   "codemirror_mode": {
    "name": "ipython",
    "version": 3
   },
   "file_extension": ".py",
   "mimetype": "text/x-python",
   "name": "python",
   "nbconvert_exporter": "python",
   "pygments_lexer": "ipython3",
   "version": "3.11.8"
  }
 },
 "nbformat": 4,
 "nbformat_minor": 5
}
