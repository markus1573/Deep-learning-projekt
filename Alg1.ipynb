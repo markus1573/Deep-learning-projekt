{
 "cells": [
  {
   "cell_type": "code",
   "execution_count": 1,
   "metadata": {},
   "outputs": [],
   "source": [
    "import torch\n",
    "import math\n",
    "def TrainingAlg(self, batch, bath_id):\n",
    "    tt = torch.randint(1, self.t_range, batch.shape[0])\n",
    "    eps = torch.randn(batch.shape)\n",
    "    imgs = []\n",
    "    bs = torch.linspace(1e-4, 0.02, len(tt))\n",
    "    \n",
    "\n",
    "    for t in range(len(tt)):\n",
    "        a_bar = math.prod([1-bs[i] for i in range(tt)])\n",
    "        imgs.append(math.sqrt(a_bar)*batch[t] + math.sqrt(1-a_bar)*eps)\n",
    "\n",
    "    e_theta = self.forward(imgs, tt)\n",
    "    loss = torch.nn.functional.mse_loss(eps, e_theta) \n",
    "\n",
    "    return loss"
   ]
  }
 ],
 "metadata": {
  "kernelspec": {
   "display_name": "Python 3",
   "language": "python",
   "name": "python3"
  },
  "language_info": {
   "codemirror_mode": {
    "name": "ipython",
    "version": 3
   },
   "file_extension": ".py",
   "mimetype": "text/x-python",
   "name": "python",
   "nbconvert_exporter": "python",
   "pygments_lexer": "ipython3",
   "version": "3.12.1"
  }
 },
 "nbformat": 4,
 "nbformat_minor": 2
}
